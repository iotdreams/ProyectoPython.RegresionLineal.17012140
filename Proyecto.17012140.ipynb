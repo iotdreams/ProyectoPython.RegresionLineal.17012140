{
 "cells": [
  {
   "cell_type": "markdown",
   "metadata": {},
   "source": [
    "# Proyecto final de Python para Data Science\n",
    "## Estudiante: Erick J. Pineda Amézquita\n",
    "## Carnet:        17012140"
   ]
  },
  {
   "cell_type": "markdown",
   "metadata": {},
   "source": [
    "Problema a resolver:\n",
    "\n",
    "Crear un modelo lineal univariable para predecir el precio de casas en base a variables obtenidas, según los valores proporcionados en el archivo: \"proyecto_training_data.npy\"\n"
   ]
  },
  {
   "cell_type": "markdown",
   "metadata": {},
   "source": [
    "#### Importar paquetes/librerías a utilizar:"
   ]
  },
  {
   "cell_type": "code",
   "execution_count": 179,
   "metadata": {},
   "outputs": [],
   "source": [
    "import numpy as np\n",
    "import seaborn as sns\n",
    "import pandas as pd\n",
    "import matplotlib.pyplot as plt\n",
    "from seaborn import lmplot\n",
    "import sklearn as sl\n",
    "from sklearn.linear_model import LinearRegression\n"
   ]
  },
  {
   "cell_type": "markdown",
   "metadata": {},
   "source": [
    "Extracción de los datos a partir del archivo .npy"
   ]
  },
  {
   "cell_type": "code",
   "execution_count": 180,
   "metadata": {},
   "outputs": [
    {
     "data": {
      "text/plain": [
       "numpy.ndarray"
      ]
     },
     "execution_count": 180,
     "metadata": {},
     "output_type": "execute_result"
    }
   ],
   "source": [
    "origenDeDatos = np.load('proyecto_training_data.npy')\n",
    "type(origenDeDatos)\n",
    "\n",
    "##np.savetxt(\"data.txt\", OrigenDeDatos.tolist())\n",
    "##OrigenDeDatos.tolist()\n"
   ]
  },
  {
   "cell_type": "markdown",
   "metadata": {},
   "source": [
    "### Separación de los datos en 80% y 20%"
   ]
  },
  {
   "cell_type": "code",
   "execution_count": 181,
   "metadata": {},
   "outputs": [
    {
     "name": "stdout",
     "output_type": "stream",
     "text": [
      "Cantidad de datos para ENTRENAMIENTO:    1168\n",
      "Cantidad de datos para VALIDACION:       292\n"
     ]
    }
   ],
   "source": [
    "numDatosEntrenamiento=int(0.8*origenDeDatos.shape[0])\n",
    "print(\"Cantidad de datos para ENTRENAMIENTO:   \", numDatosEntrenamiento)\n",
    "\n",
    "numDatosValidacion=int(0.2*origenDeDatos.shape[0])\n",
    "print(\"Cantidad de datos para VALIDACION:      \", numDatosValidacion)\n"
   ]
  },
  {
   "cell_type": "markdown",
   "metadata": {},
   "source": [
    "#### Creación de Data Frames"
   ]
  },
  {
   "cell_type": "code",
   "execution_count": 182,
   "metadata": {},
   "outputs": [
    {
     "name": "stdout",
     "output_type": "stream",
     "text": [
      "Data Frame de Entrenamiento:    (1168, 6)\n",
      "Data Frame de Validacion:       (292, 6)\n"
     ]
    }
   ],
   "source": [
    "dfEntrenamiento = pd.DataFrame(origenDeDatos[:numDatosEntrenamiento])\n",
    "dfEntrenamiento.columns = [\"SalePrice\", \"Overall\", \"Floor\", \"Rooms\", \"Year\", \"Front\"]\n",
    "\n",
    "dfValidacion = pd.DataFrame(origenDeDatos[numDatosEntrenamiento:])\n",
    "dfValidacion.columns = [\"SalePrice\", \"Overall\", \"Floor\", \"Rooms\", \"Year\", \"Front\"]\n",
    "\n",
    "print(\"Data Frame de Entrenamiento:   \",dfEntrenamiento.shape)\n",
    "print(\"Data Frame de Validacion:      \",dfValidacion.shape)\n"
   ]
  },
  {
   "cell_type": "markdown",
   "metadata": {},
   "source": [
    "#### Presentación de datos para ver como vienen"
   ]
  },
  {
   "cell_type": "code",
   "execution_count": 183,
   "metadata": {},
   "outputs": [
    {
     "data": {
      "text/html": [
       "<div>\n",
       "<style scoped>\n",
       "    .dataframe tbody tr th:only-of-type {\n",
       "        vertical-align: middle;\n",
       "    }\n",
       "\n",
       "    .dataframe tbody tr th {\n",
       "        vertical-align: top;\n",
       "    }\n",
       "\n",
       "    .dataframe thead th {\n",
       "        text-align: right;\n",
       "    }\n",
       "</style>\n",
       "<table border=\"1\" class=\"dataframe\">\n",
       "  <thead>\n",
       "    <tr style=\"text-align: right;\">\n",
       "      <th></th>\n",
       "      <th>SalePrice</th>\n",
       "      <th>Overall</th>\n",
       "      <th>Floor</th>\n",
       "      <th>Rooms</th>\n",
       "      <th>Year</th>\n",
       "      <th>Front</th>\n",
       "    </tr>\n",
       "  </thead>\n",
       "  <tbody>\n",
       "    <tr>\n",
       "      <th>0</th>\n",
       "      <td>208500.0</td>\n",
       "      <td>7.0</td>\n",
       "      <td>856.0</td>\n",
       "      <td>8.0</td>\n",
       "      <td>2003.0</td>\n",
       "      <td>65.0</td>\n",
       "    </tr>\n",
       "    <tr>\n",
       "      <th>1</th>\n",
       "      <td>181500.0</td>\n",
       "      <td>6.0</td>\n",
       "      <td>1262.0</td>\n",
       "      <td>6.0</td>\n",
       "      <td>1976.0</td>\n",
       "      <td>80.0</td>\n",
       "    </tr>\n",
       "  </tbody>\n",
       "</table>\n",
       "</div>"
      ],
      "text/plain": [
       "   SalePrice  Overall   Floor  Rooms    Year  Front\n",
       "0   208500.0      7.0   856.0    8.0  2003.0   65.0\n",
       "1   181500.0      6.0  1262.0    6.0  1976.0   80.0"
      ]
     },
     "execution_count": 183,
     "metadata": {},
     "output_type": "execute_result"
    }
   ],
   "source": [
    "dfEntrenamiento.head(2)"
   ]
  },
  {
   "cell_type": "markdown",
   "metadata": {},
   "source": [
    "#### Analitica de datos por medio de estadística"
   ]
  },
  {
   "cell_type": "code",
   "execution_count": 184,
   "metadata": {
    "scrolled": true
   },
   "outputs": [
    {
     "data": {
      "text/html": [
       "<div>\n",
       "<style scoped>\n",
       "    .dataframe tbody tr th:only-of-type {\n",
       "        vertical-align: middle;\n",
       "    }\n",
       "\n",
       "    .dataframe tbody tr th {\n",
       "        vertical-align: top;\n",
       "    }\n",
       "\n",
       "    .dataframe thead th {\n",
       "        text-align: right;\n",
       "    }\n",
       "</style>\n",
       "<table border=\"1\" class=\"dataframe\">\n",
       "  <thead>\n",
       "    <tr style=\"text-align: right;\">\n",
       "      <th></th>\n",
       "      <th>SalePrice</th>\n",
       "      <th>Overall</th>\n",
       "      <th>Floor</th>\n",
       "      <th>Rooms</th>\n",
       "      <th>Year</th>\n",
       "      <th>Front</th>\n",
       "    </tr>\n",
       "  </thead>\n",
       "  <tbody>\n",
       "    <tr>\n",
       "      <th>count</th>\n",
       "      <td>1168.000000</td>\n",
       "      <td>1168.000000</td>\n",
       "      <td>1168.000000</td>\n",
       "      <td>1168.000000</td>\n",
       "      <td>1168.000000</td>\n",
       "      <td>962.000000</td>\n",
       "    </tr>\n",
       "    <tr>\n",
       "      <th>mean</th>\n",
       "      <td>180590.277397</td>\n",
       "      <td>6.101027</td>\n",
       "      <td>1156.323630</td>\n",
       "      <td>6.485445</td>\n",
       "      <td>1971.451199</td>\n",
       "      <td>69.946985</td>\n",
       "    </tr>\n",
       "    <tr>\n",
       "      <th>std</th>\n",
       "      <td>78815.697902</td>\n",
       "      <td>1.378025</td>\n",
       "      <td>373.780374</td>\n",
       "      <td>1.609141</td>\n",
       "      <td>29.951707</td>\n",
       "      <td>23.478161</td>\n",
       "    </tr>\n",
       "    <tr>\n",
       "      <th>min</th>\n",
       "      <td>34900.000000</td>\n",
       "      <td>1.000000</td>\n",
       "      <td>334.000000</td>\n",
       "      <td>2.000000</td>\n",
       "      <td>1875.000000</td>\n",
       "      <td>21.000000</td>\n",
       "    </tr>\n",
       "    <tr>\n",
       "      <th>25%</th>\n",
       "      <td>129900.000000</td>\n",
       "      <td>5.000000</td>\n",
       "      <td>882.000000</td>\n",
       "      <td>5.000000</td>\n",
       "      <td>1954.000000</td>\n",
       "      <td>59.000000</td>\n",
       "    </tr>\n",
       "    <tr>\n",
       "      <th>50%</th>\n",
       "      <td>162950.000000</td>\n",
       "      <td>6.000000</td>\n",
       "      <td>1086.000000</td>\n",
       "      <td>6.000000</td>\n",
       "      <td>1973.000000</td>\n",
       "      <td>70.000000</td>\n",
       "    </tr>\n",
       "    <tr>\n",
       "      <th>75%</th>\n",
       "      <td>214000.000000</td>\n",
       "      <td>7.000000</td>\n",
       "      <td>1390.250000</td>\n",
       "      <td>7.000000</td>\n",
       "      <td>2000.000000</td>\n",
       "      <td>80.000000</td>\n",
       "    </tr>\n",
       "    <tr>\n",
       "      <th>max</th>\n",
       "      <td>755000.000000</td>\n",
       "      <td>10.000000</td>\n",
       "      <td>3228.000000</td>\n",
       "      <td>14.000000</td>\n",
       "      <td>2010.000000</td>\n",
       "      <td>313.000000</td>\n",
       "    </tr>\n",
       "  </tbody>\n",
       "</table>\n",
       "</div>"
      ],
      "text/plain": [
       "           SalePrice      Overall        Floor        Rooms         Year  \\\n",
       "count    1168.000000  1168.000000  1168.000000  1168.000000  1168.000000   \n",
       "mean   180590.277397     6.101027  1156.323630     6.485445  1971.451199   \n",
       "std     78815.697902     1.378025   373.780374     1.609141    29.951707   \n",
       "min     34900.000000     1.000000   334.000000     2.000000  1875.000000   \n",
       "25%    129900.000000     5.000000   882.000000     5.000000  1954.000000   \n",
       "50%    162950.000000     6.000000  1086.000000     6.000000  1973.000000   \n",
       "75%    214000.000000     7.000000  1390.250000     7.000000  2000.000000   \n",
       "max    755000.000000    10.000000  3228.000000    14.000000  2010.000000   \n",
       "\n",
       "            Front  \n",
       "count  962.000000  \n",
       "mean    69.946985  \n",
       "std     23.478161  \n",
       "min     21.000000  \n",
       "25%     59.000000  \n",
       "50%     70.000000  \n",
       "75%     80.000000  \n",
       "max    313.000000  "
      ]
     },
     "execution_count": 184,
     "metadata": {},
     "output_type": "execute_result"
    }
   ],
   "source": [
    "dfEntrenamiento.describe()"
   ]
  },
  {
   "cell_type": "markdown",
   "metadata": {},
   "source": [
    "#### Media, minimo, maximo, rangos"
   ]
  },
  {
   "cell_type": "code",
   "execution_count": 185,
   "metadata": {},
   "outputs": [
    {
     "data": {
      "text/plain": [
       "SalePrice    180590.277397\n",
       "Overall           6.101027\n",
       "Floor          1156.323630\n",
       "Rooms             6.485445\n",
       "Year           1971.451199\n",
       "Front            69.946985\n",
       "dtype: float64"
      ]
     },
     "execution_count": 185,
     "metadata": {},
     "output_type": "execute_result"
    }
   ],
   "source": [
    "dfEntrenamiento.mean(axis=0)\n"
   ]
  },
  {
   "cell_type": "code",
   "execution_count": 186,
   "metadata": {},
   "outputs": [
    {
     "data": {
      "text/plain": [
       "SalePrice    34900.0\n",
       "Overall          1.0\n",
       "Floor          334.0\n",
       "Rooms            2.0\n",
       "Year          1875.0\n",
       "Front           21.0\n",
       "dtype: float64"
      ]
     },
     "execution_count": 186,
     "metadata": {},
     "output_type": "execute_result"
    }
   ],
   "source": [
    "dfEntrenamiento.min(axis=0)\n"
   ]
  },
  {
   "cell_type": "code",
   "execution_count": 187,
   "metadata": {},
   "outputs": [
    {
     "data": {
      "text/plain": [
       "SalePrice    755000.0\n",
       "Overall          10.0\n",
       "Floor          3228.0\n",
       "Rooms            14.0\n",
       "Year           2010.0\n",
       "Front           313.0\n",
       "dtype: float64"
      ]
     },
     "execution_count": 187,
     "metadata": {},
     "output_type": "execute_result"
    }
   ],
   "source": [
    "dfEntrenamiento.max(axis=0)\n"
   ]
  },
  {
   "cell_type": "code",
   "execution_count": 188,
   "metadata": {},
   "outputs": [
    {
     "data": {
      "text/plain": [
       "SalePrice    78815.697902\n",
       "Overall          1.378025\n",
       "Floor          373.780374\n",
       "Rooms            1.609141\n",
       "Year            29.951707\n",
       "Front           23.478161\n",
       "dtype: float64"
      ]
     },
     "execution_count": 188,
     "metadata": {},
     "output_type": "execute_result"
    }
   ],
   "source": [
    "dfEntrenamiento.std(axis=0)\n"
   ]
  },
  {
   "cell_type": "markdown",
   "metadata": {},
   "source": [
    "#### Correlación entre todas las variables"
   ]
  },
  {
   "cell_type": "code",
   "execution_count": 189,
   "metadata": {},
   "outputs": [
    {
     "data": {
      "text/html": [
       "<div>\n",
       "<style scoped>\n",
       "    .dataframe tbody tr th:only-of-type {\n",
       "        vertical-align: middle;\n",
       "    }\n",
       "\n",
       "    .dataframe tbody tr th {\n",
       "        vertical-align: top;\n",
       "    }\n",
       "\n",
       "    .dataframe thead th {\n",
       "        text-align: right;\n",
       "    }\n",
       "</style>\n",
       "<table border=\"1\" class=\"dataframe\">\n",
       "  <thead>\n",
       "    <tr style=\"text-align: right;\">\n",
       "      <th></th>\n",
       "      <th>SalePrice</th>\n",
       "      <th>Overall</th>\n",
       "      <th>Floor</th>\n",
       "      <th>Rooms</th>\n",
       "      <th>Year</th>\n",
       "      <th>Front</th>\n",
       "    </tr>\n",
       "  </thead>\n",
       "  <tbody>\n",
       "    <tr>\n",
       "      <th>SalePrice</th>\n",
       "      <td>1.000000</td>\n",
       "      <td>0.793990</td>\n",
       "      <td>0.616289</td>\n",
       "      <td>0.564707</td>\n",
       "      <td>0.534171</td>\n",
       "      <td>0.363292</td>\n",
       "    </tr>\n",
       "    <tr>\n",
       "      <th>Overall</th>\n",
       "      <td>0.793990</td>\n",
       "      <td>1.000000</td>\n",
       "      <td>0.469411</td>\n",
       "      <td>0.444293</td>\n",
       "      <td>0.567313</td>\n",
       "      <td>0.242420</td>\n",
       "    </tr>\n",
       "    <tr>\n",
       "      <th>Floor</th>\n",
       "      <td>0.616289</td>\n",
       "      <td>0.469411</td>\n",
       "      <td>1.000000</td>\n",
       "      <td>0.409318</td>\n",
       "      <td>0.292074</td>\n",
       "      <td>0.417388</td>\n",
       "    </tr>\n",
       "    <tr>\n",
       "      <th>Rooms</th>\n",
       "      <td>0.564707</td>\n",
       "      <td>0.444293</td>\n",
       "      <td>0.409318</td>\n",
       "      <td>1.000000</td>\n",
       "      <td>0.122911</td>\n",
       "      <td>0.341005</td>\n",
       "    </tr>\n",
       "    <tr>\n",
       "      <th>Year</th>\n",
       "      <td>0.534171</td>\n",
       "      <td>0.567313</td>\n",
       "      <td>0.292074</td>\n",
       "      <td>0.122911</td>\n",
       "      <td>1.000000</td>\n",
       "      <td>0.121474</td>\n",
       "    </tr>\n",
       "    <tr>\n",
       "      <th>Front</th>\n",
       "      <td>0.363292</td>\n",
       "      <td>0.242420</td>\n",
       "      <td>0.417388</td>\n",
       "      <td>0.341005</td>\n",
       "      <td>0.121474</td>\n",
       "      <td>1.000000</td>\n",
       "    </tr>\n",
       "  </tbody>\n",
       "</table>\n",
       "</div>"
      ],
      "text/plain": [
       "           SalePrice   Overall     Floor     Rooms      Year     Front\n",
       "SalePrice   1.000000  0.793990  0.616289  0.564707  0.534171  0.363292\n",
       "Overall     0.793990  1.000000  0.469411  0.444293  0.567313  0.242420\n",
       "Floor       0.616289  0.469411  1.000000  0.409318  0.292074  0.417388\n",
       "Rooms       0.564707  0.444293  0.409318  1.000000  0.122911  0.341005\n",
       "Year        0.534171  0.567313  0.292074  0.122911  1.000000  0.121474\n",
       "Front       0.363292  0.242420  0.417388  0.341005  0.121474  1.000000"
      ]
     },
     "execution_count": 189,
     "metadata": {},
     "output_type": "execute_result"
    }
   ],
   "source": [
    "dfEntrenamiento.corr()\n"
   ]
  },
  {
   "cell_type": "markdown",
   "metadata": {},
   "source": [
    "#### Rangos\n"
   ]
  },
  {
   "cell_type": "code",
   "execution_count": 190,
   "metadata": {},
   "outputs": [
    {
     "name": "stdout",
     "output_type": "stream",
     "text": [
      "Intervalo SalePrice:   [ 34900.0   -    755000.0 ]\n",
      "Intervalo Overall:     [ 1.0   -    755000.0 ]\n",
      "Intervalo Floor:       [ 334.0   -    755000.0 ]\n",
      "Intervalo Rooms:       [ 2.0   -    755000.0 ]\n",
      "Intervalo Year:        [ 1875.0   -    755000.0 ]\n",
      "Intervalo Front:       [ 21.0   -    755000.0 ]\n"
     ]
    }
   ],
   "source": [
    "print (\"Intervalo SalePrice:   [\", dfEntrenamiento[\"SalePrice\"].min(),\"  -   \",dfEntrenamiento[\"SalePrice\"].max(), \"]\")\n",
    "print (\"Intervalo Overall:     [\", dfEntrenamiento[\"Overall\"].min(),\"  -   \",dfEntrenamiento[\"SalePrice\"].max(), \"]\")\n",
    "print (\"Intervalo Floor:       [\", dfEntrenamiento[\"Floor\"].min(),\"  -   \",dfEntrenamiento[\"SalePrice\"].max(), \"]\")\n",
    "print (\"Intervalo Rooms:       [\", dfEntrenamiento[\"Rooms\"].min(),\"  -   \",dfEntrenamiento[\"SalePrice\"].max(), \"]\")\n",
    "print (\"Intervalo Year:        [\", dfEntrenamiento[\"Year\"].min(),\"  -   \",dfEntrenamiento[\"SalePrice\"].max(), \"]\")\n",
    "print (\"Intervalo Front:       [\", dfEntrenamiento[\"Front\"].min(),\"  -   \",dfEntrenamiento[\"SalePrice\"].max(), \"]\")\n",
    "\n"
   ]
  },
  {
   "cell_type": "markdown",
   "metadata": {},
   "source": [
    "##  Graficas de cada Variable. Histogramas"
   ]
  },
  {
   "cell_type": "code",
   "execution_count": 191,
   "metadata": {},
   "outputs": [
    {
     "name": "stderr",
     "output_type": "stream",
     "text": [
      "C:\\ProgramData\\Anaconda3\\lib\\site-packages\\scipy\\stats\\stats.py:1713: FutureWarning: Using a non-tuple sequence for multidimensional indexing is deprecated; use `arr[tuple(seq)]` instead of `arr[seq]`. In the future this will be interpreted as an array index, `arr[np.array(seq)]`, which will result either in an error or a different result.\n",
      "  return np.add.reduce(sorted[indexer] * weights, axis=axis) / sumval\n"
     ]
    },
    {
     "data": {
      "text/plain": [
       "<matplotlib.axes._subplots.AxesSubplot at 0x21cfc6f8198>"
      ]
     },
     "execution_count": 191,
     "metadata": {},
     "output_type": "execute_result"
    },
    {
     "data": {
      "image/png": "[encoded data removed]",
      "text/plain": [
       "<Figure size 432x288 with 1 Axes>"
      ]
     },
     "metadata": {
      "needs_background": "light"
     },
     "output_type": "display_data"
    }
   ],
   "source": [
    "#sns.distplot(dfEntrenamiento[\"SalePrice\"], hist=False, color=\"g\", kde_kws={\"shade\": True})\n",
    "sns.distplot(dfEntrenamiento[\"SalePrice\"], color=\"m\")\n"
   ]
  },
  {
   "cell_type": "code",
   "execution_count": 192,
   "metadata": {},
   "outputs": [
    {
     "data": {
      "text/plain": [
       "<matplotlib.axes._subplots.AxesSubplot at 0x21cfc6045f8>"
      ]
     },
     "execution_count": 192,
     "metadata": {},
     "output_type": "execute_result"
    },
    {
     "data": {
      "image/png": "[encoded data removed]",
      "text/plain": [
       "<Figure size 432x288 with 1 Axes>"
      ]
     },
     "metadata": {
      "needs_background": "light"
     },
     "output_type": "display_data"
    }
   ],
   "source": [
    "sns.distplot(dfEntrenamiento[\"Overall\"], color=\"r\")\n"
   ]
  },
  {
   "cell_type": "code",
   "execution_count": 193,
   "metadata": {},
   "outputs": [
    {
     "data": {
      "text/plain": [
       "<matplotlib.axes._subplots.AxesSubplot at 0x21cf8a12198>"
      ]
     },
     "execution_count": 193,
     "metadata": {},
     "output_type": "execute_result"
    },
    {
     "data": {
      "image/png": "[encoded data removed]",
      "text/plain": [
       "<Figure size 432x288 with 1 Axes>"
      ]
     },
     "metadata": {
      "needs_background": "light"
     },
     "output_type": "display_data"
    }
   ],
   "source": [
    "sns.distplot(dfEntrenamiento[\"Floor\"], color=\"b\")\n"
   ]
  },
  {
   "cell_type": "code",
   "execution_count": 194,
   "metadata": {},
   "outputs": [
    {
     "data": {
      "text/plain": [
       "<matplotlib.axes._subplots.AxesSubplot at 0x21cf8a12278>"
      ]
     },
     "execution_count": 194,
     "metadata": {},
     "output_type": "execute_result"
    },
    {
     "data": {
      "image/png": "[encoded data removed]",
      "text/plain": [
       "<Figure size 432x288 with 1 Axes>"
      ]
     },
     "metadata": {
      "needs_background": "light"
     },
     "output_type": "display_data"
    }
   ],
   "source": [
    "sns.distplot(dfEntrenamiento[\"Rooms\"], color=\"g\")\n"
   ]
  },
  {
   "cell_type": "code",
   "execution_count": 195,
   "metadata": {},
   "outputs": [
    {
     "data": {
      "text/plain": [
       "<matplotlib.axes._subplots.AxesSubplot at 0x21cfa64c5c0>"
      ]
     },
     "execution_count": 195,
     "metadata": {},
     "output_type": "execute_result"
    },
    {
     "data": {
      "image/png": "[encoded data removed]",
      "text/plain": [
       "<Figure size 432x288 with 1 Axes>"
      ]
     },
     "metadata": {
      "needs_background": "light"
     },
     "output_type": "display_data"
    }
   ],
   "source": [
    "sns.distplot(dfEntrenamiento[\"Year\"], color=\"g\",bins=20)\n"
   ]
  },
  {
   "cell_type": "code",
   "execution_count": 196,
   "metadata": {},
   "outputs": [
    {
     "name": "stderr",
     "output_type": "stream",
     "text": [
      "C:\\ProgramData\\Anaconda3\\lib\\site-packages\\numpy\\lib\\histograms.py:754: RuntimeWarning: invalid value encountered in greater_equal\n",
      "  keep = (tmp_a >= first_edge)\n",
      "C:\\ProgramData\\Anaconda3\\lib\\site-packages\\numpy\\lib\\histograms.py:755: RuntimeWarning: invalid value encountered in less_equal\n",
      "  keep &= (tmp_a <= last_edge)\n",
      "C:\\ProgramData\\Anaconda3\\lib\\site-packages\\statsmodels\\nonparametric\\kde.py:448: RuntimeWarning: invalid value encountered in greater\n",
      "  X = X[np.logical_and(X > clip[0], X < clip[1])] # won't work for two columns.\n",
      "C:\\ProgramData\\Anaconda3\\lib\\site-packages\\statsmodels\\nonparametric\\kde.py:448: RuntimeWarning: invalid value encountered in less\n",
      "  X = X[np.logical_and(X > clip[0], X < clip[1])] # won't work for two columns.\n"
     ]
    },
    {
     "data": {
      "text/plain": [
       "<matplotlib.axes._subplots.AxesSubplot at 0x21cfa617a20>"
      ]
     },
     "execution_count": 196,
     "metadata": {},
     "output_type": "execute_result"
    },
    {
     "data": {
      "image/png": "[encoded data removed]",
      "text/plain": [
       "<Figure size 432x288 with 1 Axes>"
      ]
     },
     "metadata": {
      "needs_background": "light"
     },
     "output_type": "display_data"
    }
   ],
   "source": [
    "sns.distplot(dfEntrenamiento[\"Front\"], color=\"b\",bins=20)\n",
    "\n"
   ]
  },
  {
   "cell_type": "markdown",
   "metadata": {},
   "source": [
    "# Graficas X,Y para observar el comportamiento del precio y sus variables"
   ]
  },
  {
   "cell_type": "code",
   "execution_count": 197,
   "metadata": {},
   "outputs": [
    {
     "data": {
      "image/png": "[encoded data removed]",
      "text/plain": [
       "<Figure size 432x288 with 1 Axes>"
      ]
     },
     "metadata": {
      "needs_background": "light"
     },
     "output_type": "display_data"
    }
   ],
   "source": [
    "ax = sns.regplot(x=\"Overall\", y=\"SalePrice\", data=dfEntrenamiento)"
   ]
  },
  {
   "cell_type": "code",
   "execution_count": 198,
   "metadata": {},
   "outputs": [
    {
     "data": {
      "image/png": "[encoded data removed]",
      "text/plain": [
       "<Figure size 432x288 with 1 Axes>"
      ]
     },
     "metadata": {
      "needs_background": "light"
     },
     "output_type": "display_data"
    }
   ],
   "source": [
    "ax = sns.regplot(x=\"Floor\", y=\"SalePrice\", data=dfEntrenamiento)"
   ]
  },
  {
   "cell_type": "code",
   "execution_count": 199,
   "metadata": {},
   "outputs": [
    {
     "data": {
      "image/png": "[encoded data removed]",
      "text/plain": [
       "<Figure size 432x288 with 1 Axes>"
      ]
     },
     "metadata": {
      "needs_background": "light"
     },
     "output_type": "display_data"
    }
   ],
   "source": [
    "ax = sns.regplot(x=\"Rooms\", y=\"SalePrice\", data=dfEntrenamiento)"
   ]
  },
  {
   "cell_type": "code",
   "execution_count": 200,
   "metadata": {},
   "outputs": [
    {
     "data": {
      "image/png": "[encoded data removed]",
      "text/plain": [
       "<Figure size 432x288 with 1 Axes>"
      ]
     },
     "metadata": {
      "needs_background": "light"
     },
     "output_type": "display_data"
    }
   ],
   "source": [
    "ax = sns.regplot(x=\"Year\", y=\"SalePrice\", data=dfEntrenamiento)"
   ]
  },
  {
   "cell_type": "code",
   "execution_count": 201,
   "metadata": {},
   "outputs": [
    {
     "data": {
      "image/png": "[encoded data removed]",
      "text/plain": [
       "<Figure size 432x288 with 1 Axes>"
      ]
     },
     "metadata": {
      "needs_background": "light"
     },
     "output_type": "display_data"
    }
   ],
   "source": [
    "ax = sns.regplot(x=\"Front\", y=\"SalePrice\", data=dfEntrenamiento)"
   ]
  },
  {
   "cell_type": "markdown",
   "metadata": {},
   "source": [
    "### Funcion de entrenamiento manual"
   ]
  },
  {
   "cell_type": "markdown",
   "metadata": {},
   "source": [
    "## Se tomarán las 2 variables: Overall y Floor, segun la tendencia de las mismas"
   ]
  },
  {
   "cell_type": "code",
   "execution_count": 202,
   "metadata": {},
   "outputs": [],
   "source": [
    "def regresionLineal(argX, argY, EPOCHS, imprimir_error_cada, lr):\n",
    "    count=0\n",
    "    mb=np.array([3.0, 19.0])\n",
    "    \n",
    "    ## convertir las Series a arreglos Numpy y pasarlos a columnas\n",
    "    arrYconvertido=np.array([argY])\n",
    "    arrYconvertido = arrYconvertido.reshape((-1,1))\n",
    "    \n",
    "    ## convertir las Series a arreglos Numpy y pasarlos a columnas\n",
    "    arrXconvertido=np.array([argX])\n",
    "    arrXconvertido = arrXconvertido.reshape((-1,1))\n",
    "    \n",
    "    #Arreglo mb, valores de X y 1's\n",
    "    arrXUnos=np.column_stack(      (arrXconvertido,     np.ones_like(arrXconvertido)     ))\n",
    "\n",
    "    ## Vectores que tendrán el acumulado del modelo mb y de los errores\n",
    "    vectorDeErrores=[]\n",
    "    vectorModeloMB=[]\n",
    "    \n",
    "    while count < EPOCHS:\n",
    "        \n",
    "        ## Al aplicar el producto escalar, se obtiene un vector de 1168 elementos, por lo cual se pasa a 1168 filas y 1 columna\n",
    "        yhat=np.dot(arrXUnos,mb)\n",
    "        yhat = yhat.reshape((-1,1))\n",
    "        \n",
    "        ## La formula para el error es: e=1/2 * promedio(y-yhat)^2\n",
    "        arrError= 0.5*(np.mean(np.power(arrYconvertido-yhat,2)))\n",
    "        \n",
    "        ## La formula para el gradiente es: g=promedio(yhat-y)*X donde X es el arreglo de valores independientes.\n",
    "        productoH=arrXUnos*(yhat - arrYconvertido)\n",
    "        \n",
    "        ## Se obtiene el promedio por columnas, axis=0\n",
    "        gradiente = productoH.mean(axis=0)\n",
    "        \n",
    "        ## Asignación de nuevos valores a m y b, por medio del vector de 2 elementos llamado graidente\n",
    "        mb-= lr * gradiente  \n",
    "        #mb[0] = mb[0]-lr * gradiente\n",
    "        #mb[1] = mb[1]-lr * gradiente\n",
    "        \n",
    "        \n",
    "        #### Codigo que estaba dando el error\n",
    "        ### Se utilizó list ya que de lo contrario los valores van cambiando porque la variable se va por referencia.\n",
    "        ## al aplicaro de esta manera, la variable mb no es por referencia, es decir crea una copia idéntica.\n",
    "        vectorModeloMB.append(list(mb))\n",
    "        vectorDeErrores.append(arrError)\n",
    "        \n",
    "        if ((count % imprimir_error_cada == 0)):\n",
    "            print(\"[No:\", count, \"] [M,B: \", \n",
    "                  mb , \"] [Err:\", arrError, \"] [Grad: \",gradiente,\"]\")\n",
    "        \n",
    "        count+=1\n",
    "        \n",
    "    return vectorModeloMB,vectorDeErrores\n",
    "    \n",
    "##regresionLineal(dfEntrenamiento[\"Overall\"], dfEntrenamiento[\"SalePrice\"], 50, 10, 0.00001)\n",
    "\n"
   ]
  },
  {
   "cell_type": "markdown",
   "metadata": {},
   "source": [
    "### Resultados para Overall"
   ]
  },
  {
   "cell_type": "code",
   "execution_count": 203,
   "metadata": {},
   "outputs": [
    {
     "name": "stdout",
     "output_type": "stream",
     "text": [
      "[No: 0 ] [M,B:  [121.77143947  37.05529743] ] [Err: 19402727699.22774 ] [Grad:  [-1187714.39469178  -180552.97431507] ]\n",
      "[No: 10 ] [M,B:  [1283.63719348  213.57223075] ] [Err: 18013106637.04567 ] [Grad:  [-1140998.22761636  -173258.65149079] ]\n",
      "[No: 20 ] [M,B:  [2399.80411935  382.95369491] ] [Err: 16730715435.205206 ] [Grad:  [-1096120.69399722  -166251.42440305] ]\n",
      "[No: 30 ] [M,B:  [3472.07081055  545.48053356] ] [Err: 15547279581.286337 ] [Grad:  [-1053009.42968815  -159519.99366068] ]\n",
      "[No: 40 ] [M,B:  [4502.16507228  701.42253701] ] [Err: 14455163074.91215 ] [Grad:  [-1011594.91862003  -153053.50458909] ]\n"
     ]
    }
   ],
   "source": [
    "resultadoOverall=regresionLineal(dfEntrenamiento[\"Overall\"], dfEntrenamiento[\"SalePrice\"], 50, 10, 0.0001)\n",
    "#print(resultadoOverall)"
   ]
  },
  {
   "cell_type": "markdown",
   "metadata": {},
   "source": [
    "### Resultados para floor"
   ]
  },
  {
   "cell_type": "code",
   "execution_count": 204,
   "metadata": {},
   "outputs": [
    {
     "name": "stdout",
     "output_type": "stream",
     "text": [
      "[No: 0 ] [M,B:  [25.25089791 19.01771023] ] [Err: 18732119036.97774 ] [Grad:  [-2.22508979e+08 -1.77102307e+05] ]\n",
      "[No: 10 ] [M,B:  [127.69494856  19.1007947 ] ] [Err: 2654408596.7684927 ] [Grad:  [-4.50232447e+07 -3.81206381e+04] ]\n",
      "[No: 20 ] [M,B:  [148.42383495  19.11989144] ] [Err: 1996140600.6713014 ] [Grad:  [-9110159.30917348    -9998.60013044] ]\n",
      "[No: 30 ] [M,B:  [152.61818866  19.12604068] ] [Err: 1969189196.2617154 ] [Grad:  [-1843379.76745127    -4308.28820676] ]\n",
      "[No: 40 ] [M,B:  [153.4668871   19.12957008] ] [Err: 1968085719.9069004 ] [Grad:  [-372994.13200052   -3156.89033711] ]\n"
     ]
    }
   ],
   "source": [
    "resultadoFloor=regresionLineal(dfEntrenamiento[\"Floor\"], dfEntrenamiento[\"SalePrice\"], 50, 10, 0.0000001)\n",
    "#print(resultadoFloor)"
   ]
  },
  {
   "cell_type": "markdown",
   "metadata": {},
   "source": [
    "##  Visualización de errores"
   ]
  },
  {
   "cell_type": "markdown",
   "metadata": {},
   "source": [
    "#### Función para graficar error de una variable específica"
   ]
  },
  {
   "cell_type": "code",
   "execution_count": 205,
   "metadata": {},
   "outputs": [],
   "source": [
    "def graficarError(arrErrores, atributoCasa):\n",
    "    rangoEnEjeX = np.arange(np.size(arrErrores))\n",
    "    etiqueta= 'Comportamiento del error para '+ str(atributoCasa)\n",
    "    plt.ylabel('Eje Y - Error')\n",
    "    plt.xlabel('Eje X - Numero de Iteracion')    \n",
    "    plt.title(etiqueta)\n",
    "    plt.plot(rangoEnEjeX, arrErrores)\n",
    "    \n",
    "    plt.show()\n",
    "    "
   ]
  },
  {
   "cell_type": "markdown",
   "metadata": {},
   "source": [
    "#### Función para graficar evolución del modelo entrenado"
   ]
  },
  {
   "cell_type": "code",
   "execution_count": 206,
   "metadata": {},
   "outputs": [],
   "source": [
    "def graficarEvolucion(arrXALL, EPOCHS, graficarCada, strAributoCasa):\n",
    "    count=0\n",
    "    \n",
    "    #rangoEnEjeX = np.arange(np.size(arrXALL))\n",
    "    rangoEnEjeX = np.arange(np.linspace(min(arrXALL),max(arrXALL),1000))\n",
    "    \n",
    "    etiqueta= 'Comportamiento del modelo entrenado para '+ str(strAributoCasa)\n",
    "    plt.ylabel('Eje Y - Modelo')\n",
    "    plt.xlabel('Eje X - Numero de Iteracion')    \n",
    "    plt.title(etiqueta)\n",
    "    \n",
    "    \n",
    "    while count < EPOCHS:\n",
    "        #\n",
    "        if ((count % graficarCada == 0)):\n",
    "            plt.plot(rangoEnEjeX, arrXALL[count])\n",
    "            \n",
    "        count+=1\n",
    "        #### Código en construcción \n",
    "        #### Código en construcción \n",
    "        \n",
    "    plt.show()\n",
    "    "
   ]
  },
  {
   "cell_type": "code",
   "execution_count": 207,
   "metadata": {},
   "outputs": [],
   "source": [
    "resultadoOverall=regresionLineal(dfEntrenamiento[\"Overall\"], dfEntrenamiento[\"SalePrice\"], 1500, 500, 0.00019)\n",
    "graficarEvolucion(resultadoOverall[0],15,5, \"Overall\")\n",
    "\n"
   ]
  },
  {
   "cell_type": "markdown",
   "metadata": {},
   "source": [
    "#### Visualización de errores para el atributo Overall"
   ]
  },
  {
   "cell_type": "code",
   "execution_count": 208,
   "metadata": {
    "scrolled": true
   },
   "outputs": [
    {
     "name": "stdout",
     "output_type": "stream",
     "text": [
      "[No: 0 ] [M,B:  [228.66573499  53.30506512] ] [Err: 19402727699.22774 ] [Grad:  [-1187714.39469178  -180552.97431507] ]\n",
      "[No: 500 ] [M,B:  [29050.84237132  4088.93033002] ] [Err: 1401269798.7028935 ] [Grad:  [-26733.91048952    707.78281154] ]\n",
      "[No: 1000 ] [M,B:  [29750.91768263  3735.48070814] ] [Err: 1390439814.0017393 ] [Grad:  [-1309.91880943  4655.73332397] ]\n"
     ]
    },
    {
     "data": {
      "image/png": "[encoded data removed]",
      "text/plain": [
       "<Figure size 432x288 with 1 Axes>"
      ]
     },
     "metadata": {
      "needs_background": "light"
     },
     "output_type": "display_data"
    }
   ],
   "source": [
    "resultadoOverall=regresionLineal(dfEntrenamiento[\"Overall\"], dfEntrenamiento[\"SalePrice\"], 1500, 500, 0.00019)\n",
    "graficarError(resultadoOverall[1], \"Overall\")\n"
   ]
  },
  {
   "cell_type": "markdown",
   "metadata": {},
   "source": [
    "#### Visualización de errores para el atributo Floor"
   ]
  },
  {
   "cell_type": "code",
   "execution_count": 209,
   "metadata": {},
   "outputs": [
    {
     "name": "stdout",
     "output_type": "stream",
     "text": [
      "[No: 0 ] [M,B:  [ 3.42276706 19.00033649] ] [Err: 18732119036.97774 ] [Grad:  [-2.22508979e+08 -1.77102307e+05] ]\n",
      "[No: 500 ] [M,B:  [116.80665973  19.09184426] ] [Err: 2977693100.8104506 ] [Grad:  [-5.46064627e+07 -4.56248561e+04] ]\n",
      "[No: 1000 ] [M,B:  [144.63247229  19.11635507] ] [Err: 2028847341.212531 ] [Grad:  [-1.34011018e+07 -1.33586581e+04] ]\n",
      "[No: 1500 ] [M,B:  [151.46127035  19.12442399] ] [Err: 1971700962.9415283 ] [Grad:  [-3288794.98505496    -5440.13255458] ]\n",
      "[No: 2000 ] [M,B:  [153.13714053  19.12845787] ] [Err: 1968259186.3934064 ] [Grad:  [-807109.40511424   -3496.82793624] ]\n",
      "[No: 2500 ] [M,B:  [153.54841825  19.13150149] ] [Err: 1968051890.3289683 ] [Grad:  [-198072.97014357   -3019.91667554] ]\n",
      "[No: 3000 ] [M,B:  [153.6493493  19.1343021] ] [Err: 1968039398.1298184 ] [Grad:  [-48607.87185674  -2902.87654034] ]\n",
      "[No: 3500 ] [M,B:  [153.67411743  19.13704307] ] [Err: 1968038638.4317994 ] [Grad:  [-11927.28212055  -2874.15324475] ]\n",
      "[No: 4000 ] [M,B:  [153.68019422  19.1397694 ] ] [Err: 1968038585.3500633 ] [Grad:  [-2925.41025352 -2867.10399747] ]\n",
      "[No: 4500 ] [M,B:  [153.68168394  19.14249214] ] [Err: 1968038574.8258843 ] [Grad:  [ -716.2391992  -2865.37383058] ]\n"
     ]
    },
    {
     "data": {
      "image/png": "[encoded data removed]",
      "text/plain": [
       "<Figure size 432x288 with 1 Axes>"
      ]
     },
     "metadata": {
      "needs_background": "light"
     },
     "output_type": "display_data"
    }
   ],
   "source": [
    "resultadoFloor=regresionLineal(dfEntrenamiento[\"Floor\"], dfEntrenamiento[\"SalePrice\"], 5000, 500, 0.0000000019)\n",
    "graficarError(resultadoFloor[1], \"Floor\")\n"
   ]
  },
  {
   "cell_type": "markdown",
   "metadata": {},
   "source": [
    "## Modelo con Sk"
   ]
  },
  {
   "cell_type": "code",
   "execution_count": 210,
   "metadata": {},
   "outputs": [],
   "source": [
    "def entrenamientoSKT(x, y):\n",
    "    modeloSkt = LinearRegression()    \n",
    "    modeloSkt.fit(x,y)\n",
    "    return np.append(modeloSkt.coef_.flatten(), modeloSkt.intercept_.flatten())\n",
    "\n"
   ]
  },
  {
   "cell_type": "markdown",
   "metadata": {},
   "source": [
    "### Entrenando modelo"
   ]
  },
  {
   "cell_type": "markdown",
   "metadata": {},
   "source": [
    "#### Entrenamiento para Overall "
   ]
  },
  {
   "cell_type": "code",
   "execution_count": 211,
   "metadata": {},
   "outputs": [
    {
     "name": "stdout",
     "output_type": "stream",
     "text": [
      "[ 45411.99877916 -96469.57131874]\n"
     ]
    }
   ],
   "source": [
    "serY = dfEntrenamiento[\"SalePrice\"]\n",
    "serX = dfEntrenamiento[\"Overall\"]\n",
    "\n",
    "xx=np.array(dfEntrenamiento[\"Overall\"].values.tolist())\n",
    "yy=np.array(dfEntrenamiento[\"SalePrice\"].values.tolist())\n",
    "\n",
    "print(entrenamientoSKT(xx.reshape(-1, 1), yy.reshape(-1, 1)))\n"
   ]
  },
  {
   "cell_type": "markdown",
   "metadata": {},
   "source": [
    "#### Entrenamiento para Floor"
   ]
  },
  {
   "cell_type": "code",
   "execution_count": 212,
   "metadata": {},
   "outputs": [
    {
     "name": "stdout",
     "output_type": "stream",
     "text": [
      "[  129.95124229 30324.58517496]\n"
     ]
    }
   ],
   "source": [
    "xx=np.array(dfEntrenamiento[\"Floor\"].values.tolist())\n",
    "yy=np.array(dfEntrenamiento[\"SalePrice\"].values.tolist())\n",
    "\n",
    "print(entrenamientoSKT(xx.reshape(-1, 1), yy.reshape(-1, 1)))\n"
   ]
  },
  {
   "cell_type": "markdown",
   "metadata": {},
   "source": [
    "# Conclusiones finales: "
   ]
  },
  {
   "cell_type": "markdown",
   "metadata": {},
   "source": [
    "En base a los modelos entrenados manualmente y con la herramienta Sklearn, se pueden concluir los siguientes modelos para las variables: Overall y Floor, que según las graficas, y el analisis exploratorio, tienden a tener mayor relación con el precio de las casas:\n",
    "\n",
    "Para Overall:\n",
    "Y = 45411.99*X-96469.57\n",
    "\n",
    "Para Floor:\n",
    "Y = 129.95*X+30324.58\n",
    "\n",
    "\n",
    "\n"
   ]
  },
  {
   "cell_type": "code",
   "execution_count": 213,
   "metadata": {},
   "outputs": [],
   "source": [
    "\n",
    "######## Codigo comentado que se ha optimizado\n",
    "\n",
    "# lmplot(x, y, data=dsDatosEntrenamiento, fit_reg=False)\n",
    "#dsDatosEntrenamiento.columns = [\"Sequence\", \"Start\", \"End\", \"Coverage\"]\n",
    "##arrPrecio=dsDatosEntrenamiento[:,0]\n",
    "##arrOver=dsDatosEntrenamiento[:,1]\n",
    "##arrFloor=dsDatosEntrenamiento[:,2]\n",
    "##arrRooms=dsDatosEntrenamiento[:,3]\n",
    "##arrYear=dsDatosEntrenamiento[:,4]\n",
    "##arrFront=dsDatosEntrenamiento[:,5]\n",
    "\n",
    "\n",
    "##mediaPrecio=np.mean(dsPrecio)\n",
    "##minPrecio=np.min(dsPrecio)\n",
    "##maxPrecio=np.max(dsPrecio)\n",
    "##stdPrecio=np.std(dsPrecio)\n",
    "\n",
    "##dsOverallQual=dsDatosEntrenamiento[:,1]\n",
    "##mediaOverallQual=np.mean(dsOverallQual)\n",
    "##minOverallQual=np.min(dsOverallQual)\n",
    "##maxOverallQual=np.max(dsOverallQual)\n",
    "##stdOverallQual=np.std(dsOverallQual)\n",
    "##print(mediaOverallQual)\n",
    "##print(minOverallQual)\n",
    "##print(maxOverallQual)\n",
    "##print(stdOverallQual)\n",
    "\n",
    "\n"
   ]
  }
 ],
 "metadata": {
  "kernelspec": {
   "display_name": "Python 3",
   "language": "python",
   "name": "python3"
  },
  "language_info": {
   "codemirror_mode": {
    "name": "ipython",
    "version": 3
   },
   "file_extension": ".py",
   "mimetype": "text/x-python",
   "name": "python",
   "nbconvert_exporter": "python",
   "pygments_lexer": "ipython3",
   "version": "3.7.1"
  }
 },
 "nbformat": 4,
 "nbformat_minor": 2
}
