{
 "cells": [
  {
   "cell_type": "markdown",
   "metadata": {},
   "source": [
    "# Proyecto final de Python para Data Science\n",
    "## Estudiante: Erick J. Pineda Amézquita\n",
    "## Carnet:        17012140"
   ]
  },
  {
   "cell_type": "markdown",
   "metadata": {},
   "source": [
    "Problema a resolver:\n",
    "\n",
    "Crear un modelo lineal univariable para predecir el precio de casas en base a variables obtenidas, según los valores proporcionados en el archivo: \"proyecto_training_data.npy\"\n"
   ]
  },
  {
   "cell_type": "markdown",
   "metadata": {},
   "source": [
    "#### Importar paquetes/librerías a utilizar:"
   ]
  },
  {
   "cell_type": "code",
   "execution_count": 262,
   "metadata": {},
   "outputs": [],
   "source": [
    "import numpy as np\n",
    "import seaborn as sns\n",
    "import pandas as pd\n",
    "import matplotlib.pyplot as plt\n",
    "from seaborn import lmplot\n",
    "import sklearn as sl\n",
    "from sklearn.linear_model import LinearRegression\n"
   ]
  },
  {
   "cell_type": "markdown",
   "metadata": {},
   "source": [
    "Extracción de los datos a partir del archivo .npy"
   ]
  },
  {
   "cell_type": "code",
   "execution_count": 263,
   "metadata": {},
   "outputs": [
    {
     "data": {
      "text/plain": [
       "numpy.ndarray"
      ]
     },
     "execution_count": 263,
     "metadata": {},
     "output_type": "execute_result"
    }
   ],
   "source": [
    "origenDeDatos = np.load('proyecto_training_data.npy')\n",
    "type(origenDeDatos)\n",
    "\n",
    "##np.savetxt(\"data.txt\", OrigenDeDatos.tolist())\n",
    "##OrigenDeDatos.tolist()\n"
   ]
  },
  {
   "cell_type": "markdown",
   "metadata": {},
   "source": [
    "### Separación de los datos en 80% y 20%"
   ]
  },
  {
   "cell_type": "code",
   "execution_count": 264,
   "metadata": {},
   "outputs": [
    {
     "name": "stdout",
     "output_type": "stream",
     "text": [
      "Cantidad de datos para ENTRENAMIENTO:    1168\n",
      "Cantidad de datos para VALIDACION:       292\n"
     ]
    }
   ],
   "source": [
    "numDatosEntrenamiento=int(0.8*origenDeDatos.shape[0])\n",
    "print(\"Cantidad de datos para ENTRENAMIENTO:   \", numDatosEntrenamiento)\n",
    "\n",
    "numDatosValidacion=int(0.2*origenDeDatos.shape[0])\n",
    "print(\"Cantidad de datos para VALIDACION:      \", numDatosValidacion)\n"
   ]
  },
  {
   "cell_type": "markdown",
   "metadata": {},
   "source": [
    "#### Creación de Data Frames"
   ]
  },
  {
   "cell_type": "code",
   "execution_count": 265,
   "metadata": {},
   "outputs": [
    {
     "name": "stdout",
     "output_type": "stream",
     "text": [
      "Data Frame de Entrenamiento:    (1168, 6)\n",
      "Data Frame de Validacion:       (292, 6)\n"
     ]
    }
   ],
   "source": [
    "dfEntrenamiento = pd.DataFrame(origenDeDatos[:numDatosEntrenamiento])\n",
    "dfEntrenamiento.columns = [\"SalePrice\", \"Overall\", \"Floor\", \"Rooms\", \"Year\", \"Front\"]\n",
    "\n",
    "dfValidacion = pd.DataFrame(origenDeDatos[numDatosEntrenamiento:])\n",
    "dfValidacion.columns = [\"SalePrice\", \"Overall\", \"Floor\", \"Rooms\", \"Year\", \"Front\"]\n",
    "\n",
    "print(\"Data Frame de Entrenamiento:   \",dfEntrenamiento.shape)\n",
    "print(\"Data Frame de Validacion:      \",dfValidacion.shape)\n"
   ]
  },
  {
   "cell_type": "markdown",
   "metadata": {},
   "source": [
    "#### Presentación de datos para ver como vienen"
   ]
  },
  {
   "cell_type": "code",
   "execution_count": 266,
   "metadata": {},
   "outputs": [
    {
     "data": {
      "text/html": [
       "<div>\n",
       "<style scoped>\n",
       "    .dataframe tbody tr th:only-of-type {\n",
       "        vertical-align: middle;\n",
       "    }\n",
       "\n",
       "    .dataframe tbody tr th {\n",
       "        vertical-align: top;\n",
       "    }\n",
       "\n",
       "    .dataframe thead th {\n",
       "        text-align: right;\n",
       "    }\n",
       "</style>\n",
       "<table border=\"1\" class=\"dataframe\">\n",
       "  <thead>\n",
       "    <tr style=\"text-align: right;\">\n",
       "      <th></th>\n",
       "      <th>SalePrice</th>\n",
       "      <th>Overall</th>\n",
       "      <th>Floor</th>\n",
       "      <th>Rooms</th>\n",
       "      <th>Year</th>\n",
       "      <th>Front</th>\n",
       "    </tr>\n",
       "  </thead>\n",
       "  <tbody>\n",
       "    <tr>\n",
       "      <th>0</th>\n",
       "      <td>208500.0</td>\n",
       "      <td>7.0</td>\n",
       "      <td>856.0</td>\n",
       "      <td>8.0</td>\n",
       "      <td>2003.0</td>\n",
       "      <td>65.0</td>\n",
       "    </tr>\n",
       "    <tr>\n",
       "      <th>1</th>\n",
       "      <td>181500.0</td>\n",
       "      <td>6.0</td>\n",
       "      <td>1262.0</td>\n",
       "      <td>6.0</td>\n",
       "      <td>1976.0</td>\n",
       "      <td>80.0</td>\n",
       "    </tr>\n",
       "  </tbody>\n",
       "</table>\n",
       "</div>"
      ],
      "text/plain": [
       "   SalePrice  Overall   Floor  Rooms    Year  Front\n",
       "0   208500.0      7.0   856.0    8.0  2003.0   65.0\n",
       "1   181500.0      6.0  1262.0    6.0  1976.0   80.0"
      ]
     },
     "execution_count": 266,
     "metadata": {},
     "output_type": "execute_result"
    }
   ],
   "source": [
    "dfEntrenamiento.head(2)"
   ]
  },
  {
   "cell_type": "markdown",
   "metadata": {},
   "source": [
    "#### Analitica de datos por medio de estadística"
   ]
  },
  {
   "cell_type": "code",
   "execution_count": 267,
   "metadata": {
    "scrolled": true
   },
   "outputs": [
    {
     "data": {
      "text/html": [
       "<div>\n",
       "<style scoped>\n",
       "    .dataframe tbody tr th:only-of-type {\n",
       "        vertical-align: middle;\n",
       "    }\n",
       "\n",
       "    .dataframe tbody tr th {\n",
       "        vertical-align: top;\n",
       "    }\n",
       "\n",
       "    .dataframe thead th {\n",
       "        text-align: right;\n",
       "    }\n",
       "</style>\n",
       "<table border=\"1\" class=\"dataframe\">\n",
       "  <thead>\n",
       "    <tr style=\"text-align: right;\">\n",
       "      <th></th>\n",
       "      <th>SalePrice</th>\n",
       "      <th>Overall</th>\n",
       "      <th>Floor</th>\n",
       "      <th>Rooms</th>\n",
       "      <th>Year</th>\n",
       "      <th>Front</th>\n",
       "    </tr>\n",
       "  </thead>\n",
       "  <tbody>\n",
       "    <tr>\n",
       "      <th>count</th>\n",
       "      <td>1168.000000</td>\n",
       "      <td>1168.000000</td>\n",
       "      <td>1168.000000</td>\n",
       "      <td>1168.000000</td>\n",
       "      <td>1168.000000</td>\n",
       "      <td>962.000000</td>\n",
       "    </tr>\n",
       "    <tr>\n",
       "      <th>mean</th>\n",
       "      <td>180590.277397</td>\n",
       "      <td>6.101027</td>\n",
       "      <td>1156.323630</td>\n",
       "      <td>6.485445</td>\n",
       "      <td>1971.451199</td>\n",
       "      <td>69.946985</td>\n",
       "    </tr>\n",
       "    <tr>\n",
       "      <th>std</th>\n",
       "      <td>78815.697902</td>\n",
       "      <td>1.378025</td>\n",
       "      <td>373.780374</td>\n",
       "      <td>1.609141</td>\n",
       "      <td>29.951707</td>\n",
       "      <td>23.478161</td>\n",
       "    </tr>\n",
       "    <tr>\n",
       "      <th>min</th>\n",
       "      <td>34900.000000</td>\n",
       "      <td>1.000000</td>\n",
       "      <td>334.000000</td>\n",
       "      <td>2.000000</td>\n",
       "      <td>1875.000000</td>\n",
       "      <td>21.000000</td>\n",
       "    </tr>\n",
       "    <tr>\n",
       "      <th>25%</th>\n",
       "      <td>129900.000000</td>\n",
       "      <td>5.000000</td>\n",
       "      <td>882.000000</td>\n",
       "      <td>5.000000</td>\n",
       "      <td>1954.000000</td>\n",
       "      <td>59.000000</td>\n",
       "    </tr>\n",
       "    <tr>\n",
       "      <th>50%</th>\n",
       "      <td>162950.000000</td>\n",
       "      <td>6.000000</td>\n",
       "      <td>1086.000000</td>\n",
       "      <td>6.000000</td>\n",
       "      <td>1973.000000</td>\n",
       "      <td>70.000000</td>\n",
       "    </tr>\n",
       "    <tr>\n",
       "      <th>75%</th>\n",
       "      <td>214000.000000</td>\n",
       "      <td>7.000000</td>\n",
       "      <td>1390.250000</td>\n",
       "      <td>7.000000</td>\n",
       "      <td>2000.000000</td>\n",
       "      <td>80.000000</td>\n",
       "    </tr>\n",
       "    <tr>\n",
       "      <th>max</th>\n",
       "      <td>755000.000000</td>\n",
       "      <td>10.000000</td>\n",
       "      <td>3228.000000</td>\n",
       "      <td>14.000000</td>\n",
       "      <td>2010.000000</td>\n",
       "      <td>313.000000</td>\n",
       "    </tr>\n",
       "  </tbody>\n",
       "</table>\n",
       "</div>"
      ],
      "text/plain": [
       "           SalePrice      Overall        Floor        Rooms         Year  \\\n",
       "count    1168.000000  1168.000000  1168.000000  1168.000000  1168.000000   \n",
       "mean   180590.277397     6.101027  1156.323630     6.485445  1971.451199   \n",
       "std     78815.697902     1.378025   373.780374     1.609141    29.951707   \n",
       "min     34900.000000     1.000000   334.000000     2.000000  1875.000000   \n",
       "25%    129900.000000     5.000000   882.000000     5.000000  1954.000000   \n",
       "50%    162950.000000     6.000000  1086.000000     6.000000  1973.000000   \n",
       "75%    214000.000000     7.000000  1390.250000     7.000000  2000.000000   \n",
       "max    755000.000000    10.000000  3228.000000    14.000000  2010.000000   \n",
       "\n",
       "            Front  \n",
       "count  962.000000  \n",
       "mean    69.946985  \n",
       "std     23.478161  \n",
       "min     21.000000  \n",
       "25%     59.000000  \n",
       "50%     70.000000  \n",
       "75%     80.000000  \n",
       "max    313.000000  "
      ]
     },
     "execution_count": 267,
     "metadata": {},
     "output_type": "execute_result"
    }
   ],
   "source": [
    "dfEntrenamiento.describe()"
   ]
  },
  {
   "cell_type": "markdown",
   "metadata": {},
   "source": [
    "#### Media, minimo, maximo, rangos"
   ]
  },
  {
   "cell_type": "code",
   "execution_count": 268,
   "metadata": {},
   "outputs": [
    {
     "data": {
      "text/plain": [
       "SalePrice    180590.277397\n",
       "Overall           6.101027\n",
       "Floor          1156.323630\n",
       "Rooms             6.485445\n",
       "Year           1971.451199\n",
       "Front            69.946985\n",
       "dtype: float64"
      ]
     },
     "execution_count": 268,
     "metadata": {},
     "output_type": "execute_result"
    }
   ],
   "source": [
    "dfEntrenamiento.mean(axis=0)\n"
   ]
  },
  {
   "cell_type": "code",
   "execution_count": 269,
   "metadata": {},
   "outputs": [
    {
     "data": {
      "text/plain": [
       "SalePrice    34900.0\n",
       "Overall          1.0\n",
       "Floor          334.0\n",
       "Rooms            2.0\n",
       "Year          1875.0\n",
       "Front           21.0\n",
       "dtype: float64"
      ]
     },
     "execution_count": 269,
     "metadata": {},
     "output_type": "execute_result"
    }
   ],
   "source": [
    "dfEntrenamiento.min(axis=0)\n"
   ]
  },
  {
   "cell_type": "code",
   "execution_count": 270,
   "metadata": {},
   "outputs": [
    {
     "data": {
      "text/plain": [
       "SalePrice    755000.0\n",
       "Overall          10.0\n",
       "Floor          3228.0\n",
       "Rooms            14.0\n",
       "Year           2010.0\n",
       "Front           313.0\n",
       "dtype: float64"
      ]
     },
     "execution_count": 270,
     "metadata": {},
     "output_type": "execute_result"
    }
   ],
   "source": [
    "dfEntrenamiento.max(axis=0)\n"
   ]
  },
  {
   "cell_type": "code",
   "execution_count": 271,
   "metadata": {},
   "outputs": [
    {
     "data": {
      "text/plain": [
       "SalePrice    78815.697902\n",
       "Overall          1.378025\n",
       "Floor          373.780374\n",
       "Rooms            1.609141\n",
       "Year            29.951707\n",
       "Front           23.478161\n",
       "dtype: float64"
      ]
     },
     "execution_count": 271,
     "metadata": {},
     "output_type": "execute_result"
    }
   ],
   "source": [
    "dfEntrenamiento.std(axis=0)\n"
   ]
  },
  {
   "cell_type": "markdown",
   "metadata": {},
   "source": [
    "#### Correlación entre todas las variables"
   ]
  },
  {
   "cell_type": "code",
   "execution_count": 272,
   "metadata": {},
   "outputs": [
    {
     "data": {
      "text/html": [
       "<div>\n",
       "<style scoped>\n",
       "    .dataframe tbody tr th:only-of-type {\n",
       "        vertical-align: middle;\n",
       "    }\n",
       "\n",
       "    .dataframe tbody tr th {\n",
       "        vertical-align: top;\n",
       "    }\n",
       "\n",
       "    .dataframe thead th {\n",
       "        text-align: right;\n",
       "    }\n",
       "</style>\n",
       "<table border=\"1\" class=\"dataframe\">\n",
       "  <thead>\n",
       "    <tr style=\"text-align: right;\">\n",
       "      <th></th>\n",
       "      <th>SalePrice</th>\n",
       "      <th>Overall</th>\n",
       "      <th>Floor</th>\n",
       "      <th>Rooms</th>\n",
       "      <th>Year</th>\n",
       "      <th>Front</th>\n",
       "    </tr>\n",
       "  </thead>\n",
       "  <tbody>\n",
       "    <tr>\n",
       "      <th>SalePrice</th>\n",
       "      <td>1.000000</td>\n",
       "      <td>0.793990</td>\n",
       "      <td>0.616289</td>\n",
       "      <td>0.564707</td>\n",
       "      <td>0.534171</td>\n",
       "      <td>0.363292</td>\n",
       "    </tr>\n",
       "    <tr>\n",
       "      <th>Overall</th>\n",
       "      <td>0.793990</td>\n",
       "      <td>1.000000</td>\n",
       "      <td>0.469411</td>\n",
       "      <td>0.444293</td>\n",
       "      <td>0.567313</td>\n",
       "      <td>0.242420</td>\n",
       "    </tr>\n",
       "    <tr>\n",
       "      <th>Floor</th>\n",
       "      <td>0.616289</td>\n",
       "      <td>0.469411</td>\n",
       "      <td>1.000000</td>\n",
       "      <td>0.409318</td>\n",
       "      <td>0.292074</td>\n",
       "      <td>0.417388</td>\n",
       "    </tr>\n",
       "    <tr>\n",
       "      <th>Rooms</th>\n",
       "      <td>0.564707</td>\n",
       "      <td>0.444293</td>\n",
       "      <td>0.409318</td>\n",
       "      <td>1.000000</td>\n",
       "      <td>0.122911</td>\n",
       "      <td>0.341005</td>\n",
       "    </tr>\n",
       "    <tr>\n",
       "      <th>Year</th>\n",
       "      <td>0.534171</td>\n",
       "      <td>0.567313</td>\n",
       "      <td>0.292074</td>\n",
       "      <td>0.122911</td>\n",
       "      <td>1.000000</td>\n",
       "      <td>0.121474</td>\n",
       "    </tr>\n",
       "    <tr>\n",
       "      <th>Front</th>\n",
       "      <td>0.363292</td>\n",
       "      <td>0.242420</td>\n",
       "      <td>0.417388</td>\n",
       "      <td>0.341005</td>\n",
       "      <td>0.121474</td>\n",
       "      <td>1.000000</td>\n",
       "    </tr>\n",
       "  </tbody>\n",
       "</table>\n",
       "</div>"
      ],
      "text/plain": [
       "           SalePrice   Overall     Floor     Rooms      Year     Front\n",
       "SalePrice   1.000000  0.793990  0.616289  0.564707  0.534171  0.363292\n",
       "Overall     0.793990  1.000000  0.469411  0.444293  0.567313  0.242420\n",
       "Floor       0.616289  0.469411  1.000000  0.409318  0.292074  0.417388\n",
       "Rooms       0.564707  0.444293  0.409318  1.000000  0.122911  0.341005\n",
       "Year        0.534171  0.567313  0.292074  0.122911  1.000000  0.121474\n",
       "Front       0.363292  0.242420  0.417388  0.341005  0.121474  1.000000"
      ]
     },
     "execution_count": 272,
     "metadata": {},
     "output_type": "execute_result"
    }
   ],
   "source": [
    "dfEntrenamiento.corr()\n"
   ]
  },
  {
   "cell_type": "markdown",
   "metadata": {},
   "source": [
    "#### Rangos\n"
   ]
  },
  {
   "cell_type": "code",
   "execution_count": 273,
   "metadata": {},
   "outputs": [
    {
     "name": "stdout",
     "output_type": "stream",
     "text": [
      "Intervalo SalePrice:   [ 34900.0   -    755000.0 ]\n",
      "Intervalo Overall:     [ 1.0   -    755000.0 ]\n",
      "Intervalo Floor:       [ 334.0   -    755000.0 ]\n",
      "Intervalo Rooms:       [ 2.0   -    755000.0 ]\n",
      "Intervalo Year:        [ 1875.0   -    755000.0 ]\n",
      "Intervalo Front:       [ 21.0   -    755000.0 ]\n"
     ]
    }
   ],
   "source": [
    "print (\"Intervalo SalePrice:   [\", dfEntrenamiento[\"SalePrice\"].min(),\"  -   \",dfEntrenamiento[\"SalePrice\"].max(), \"]\")\n",
    "print (\"Intervalo Overall:     [\", dfEntrenamiento[\"Overall\"].min(),\"  -   \",dfEntrenamiento[\"SalePrice\"].max(), \"]\")\n",
    "print (\"Intervalo Floor:       [\", dfEntrenamiento[\"Floor\"].min(),\"  -   \",dfEntrenamiento[\"SalePrice\"].max(), \"]\")\n",
    "print (\"Intervalo Rooms:       [\", dfEntrenamiento[\"Rooms\"].min(),\"  -   \",dfEntrenamiento[\"SalePrice\"].max(), \"]\")\n",
    "print (\"Intervalo Year:        [\", dfEntrenamiento[\"Year\"].min(),\"  -   \",dfEntrenamiento[\"SalePrice\"].max(), \"]\")\n",
    "print (\"Intervalo Front:       [\", dfEntrenamiento[\"Front\"].min(),\"  -   \",dfEntrenamiento[\"SalePrice\"].max(), \"]\")\n",
    "\n"
   ]
  },
  {
   "cell_type": "markdown",
   "metadata": {},
   "source": [
    "##  Graficas de cada Variable. Histogramas"
   ]
  },
  {
   "cell_type": "code",
   "execution_count": 274,
   "metadata": {},
   "outputs": [
    {
     "name": "stderr",
     "output_type": "stream",
     "text": [
      "C:\\ProgramData\\Anaconda3\\lib\\site-packages\\scipy\\stats\\stats.py:1713: FutureWarning: Using a non-tuple sequence for multidimensional indexing is deprecated; use `arr[tuple(seq)]` instead of `arr[seq]`. In the future this will be interpreted as an array index, `arr[np.array(seq)]`, which will result either in an error or a different result.\n",
      "  return np.add.reduce(sorted[indexer] * weights, axis=axis) / sumval\n"
     ]
    },
    {
     "data": {
      "text/plain": [
       "<matplotlib.axes._subplots.AxesSubplot at 0x1c413844f98>"
      ]
     },
     "execution_count": 274,
     "metadata": {},
     "output_type": "execute_result"
    },
    {
     "data": {
      "image/png": "[encoded data removed]",
      "text/plain": [
       "<Figure size 432x288 with 1 Axes>"
      ]
     },
     "metadata": {
      "needs_background": "light"
     },
     "output_type": "display_data"
    }
   ],
   "source": [
    "#sns.distplot(dfEntrenamiento[\"SalePrice\"], hist=False, color=\"g\", kde_kws={\"shade\": True})\n",
    "sns.distplot(dfEntrenamiento[\"SalePrice\"], color=\"m\")\n"
   ]
  },
  {
   "cell_type": "code",
   "execution_count": 275,
   "metadata": {},
   "outputs": [
    {
     "data": {
      "text/plain": [
       "<matplotlib.axes._subplots.AxesSubplot at 0x1c4138446a0>"
      ]
     },
     "execution_count": 275,
     "metadata": {},
     "output_type": "execute_result"
    },
    {
     "data": {
      "image/png": "[encoded data removed]",
      "text/plain": [
       "<Figure size 432x288 with 1 Axes>"
      ]
     },
     "metadata": {
      "needs_background": "light"
     },
     "output_type": "display_data"
    }
   ],
   "source": [
    "sns.distplot(dfEntrenamiento[\"Overall\"], color=\"r\")\n"
   ]
  },
  {
   "cell_type": "code",
   "execution_count": 276,
   "metadata": {},
   "outputs": [
    {
     "data": {
      "text/plain": [
       "<matplotlib.axes._subplots.AxesSubplot at 0x1c4139b0908>"
      ]
     },
     "execution_count": 276,
     "metadata": {},
     "output_type": "execute_result"
    },
    {
     "data": {
      "image/png": "[encoded data removed]",
      "text/plain": [
       "<Figure size 432x288 with 1 Axes>"
      ]
     },
     "metadata": {
      "needs_background": "light"
     },
     "output_type": "display_data"
    }
   ],
   "source": [
    "sns.distplot(dfEntrenamiento[\"Floor\"], color=\"b\")\n"
   ]
  },
  {
   "cell_type": "code",
   "execution_count": 277,
   "metadata": {},
   "outputs": [
    {
     "data": {
      "text/plain": [
       "<matplotlib.axes._subplots.AxesSubplot at 0x1c413828470>"
      ]
     },
     "execution_count": 277,
     "metadata": {},
     "output_type": "execute_result"
    },
    {
     "data": {
      "image/png": "[encoded data removed]",
      "text/plain": [
       "<Figure size 432x288 with 1 Axes>"
      ]
     },
     "metadata": {
      "needs_background": "light"
     },
     "output_type": "display_data"
    }
   ],
   "source": [
    "sns.distplot(dfEntrenamiento[\"Rooms\"], color=\"g\")\n"
   ]
  },
  {
   "cell_type": "code",
   "execution_count": 278,
   "metadata": {},
   "outputs": [
    {
     "data": {
      "text/plain": [
       "<matplotlib.axes._subplots.AxesSubplot at 0x1c413aa9240>"
      ]
     },
     "execution_count": 278,
     "metadata": {},
     "output_type": "execute_result"
    },
    {
     "data": {
      "image/png": "[encoded data removed]",
      "text/plain": [
       "<Figure size 432x288 with 1 Axes>"
      ]
     },
     "metadata": {
      "needs_background": "light"
     },
     "output_type": "display_data"
    }
   ],
   "source": [
    "sns.distplot(dfEntrenamiento[\"Year\"], color=\"g\",bins=20)\n"
   ]
  },
  {
   "cell_type": "code",
   "execution_count": 279,
   "metadata": {},
   "outputs": [
    {
     "name": "stderr",
     "output_type": "stream",
     "text": [
      "C:\\ProgramData\\Anaconda3\\lib\\site-packages\\numpy\\lib\\histograms.py:754: RuntimeWarning: invalid value encountered in greater_equal\n",
      "  keep = (tmp_a >= first_edge)\n",
      "C:\\ProgramData\\Anaconda3\\lib\\site-packages\\numpy\\lib\\histograms.py:755: RuntimeWarning: invalid value encountered in less_equal\n",
      "  keep &= (tmp_a <= last_edge)\n",
      "C:\\ProgramData\\Anaconda3\\lib\\site-packages\\statsmodels\\nonparametric\\kde.py:448: RuntimeWarning: invalid value encountered in greater\n",
      "  X = X[np.logical_and(X > clip[0], X < clip[1])] # won't work for two columns.\n",
      "C:\\ProgramData\\Anaconda3\\lib\\site-packages\\statsmodels\\nonparametric\\kde.py:448: RuntimeWarning: invalid value encountered in less\n",
      "  X = X[np.logical_and(X > clip[0], X < clip[1])] # won't work for two columns.\n"
     ]
    },
    {
     "data": {
      "text/plain": [
       "<matplotlib.axes._subplots.AxesSubplot at 0x1c4134c4470>"
      ]
     },
     "execution_count": 279,
     "metadata": {},
     "output_type": "execute_result"
    },
    {
     "data": {
      "image/png": "[encoded data removed]",
      "text/plain": [
       "<Figure size 432x288 with 1 Axes>"
      ]
     },
     "metadata": {
      "needs_background": "light"
     },
     "output_type": "display_data"
    }
   ],
   "source": [
    "sns.distplot(dfEntrenamiento[\"Front\"], color=\"b\",bins=20)\n",
    "\n"
   ]
  },
  {
   "cell_type": "markdown",
   "metadata": {},
   "source": [
    "# Graficas X,Y para observar el comportamiento del precio y sus variables"
   ]
  },
  {
   "cell_type": "code",
   "execution_count": 280,
   "metadata": {},
   "outputs": [
    {
     "data": {
      "image/png": "[encoded data removed]",
      "text/plain": [
       "<Figure size 432x288 with 1 Axes>"
      ]
     },
     "metadata": {
      "needs_background": "light"
     },
     "output_type": "display_data"
    }
   ],
   "source": [
    "ax = sns.regplot(x=\"Overall\", y=\"SalePrice\", data=dfEntrenamiento)"
   ]
  },
  {
   "cell_type": "code",
   "execution_count": 281,
   "metadata": {},
   "outputs": [
    {
     "data": {
      "image/png": "[encoded data removed]",
      "text/plain": [
       "<Figure size 432x288 with 1 Axes>"
      ]
     },
     "metadata": {
      "needs_background": "light"
     },
     "output_type": "display_data"
    }
   ],
   "source": [
    "ax = sns.regplot(x=\"Floor\", y=\"SalePrice\", data=dfEntrenamiento)"
   ]
  },
  {
   "cell_type": "code",
   "execution_count": 282,
   "metadata": {},
   "outputs": [
    {
     "data": {
      "image/png": "[encoded data removed]",
      "text/plain": [
       "<Figure size 432x288 with 1 Axes>"
      ]
     },
     "metadata": {
      "needs_background": "light"
     },
     "output_type": "display_data"
    }
   ],
   "source": [
    "ax = sns.regplot(x=\"Rooms\", y=\"SalePrice\", data=dfEntrenamiento)"
   ]
  },
  {
   "cell_type": "code",
   "execution_count": 283,
   "metadata": {},
   "outputs": [
    {
     "data": {
      "image/png": "[encoded data removed]",
      "text/plain": [
       "<Figure size 432x288 with 1 Axes>"
      ]
     },
     "metadata": {
      "needs_background": "light"
     },
     "output_type": "display_data"
    }
   ],
   "source": [
    "ax = sns.regplot(x=\"Year\", y=\"SalePrice\", data=dfEntrenamiento)"
   ]
  },
  {
   "cell_type": "code",
   "execution_count": 284,
   "metadata": {},
   "outputs": [
    {
     "data": {
      "image/png": "[encoded data removed]",
      "text/plain": [
       "<Figure size 432x288 with 1 Axes>"
      ]
     },
     "metadata": {
      "needs_background": "light"
     },
     "output_type": "display_data"
    }
   ],
   "source": [
    "ax = sns.regplot(x=\"Front\", y=\"SalePrice\", data=dfEntrenamiento)"
   ]
  },
  {
   "cell_type": "markdown",
   "metadata": {},
   "source": [
    "### Funcion de entrenamiento manual"
   ]
  },
  {
   "cell_type": "markdown",
   "metadata": {},
   "source": [
    "## Se tomarán las 2 variables: Overall y Floor, segun la tendencia de las mismas"
   ]
  },
  {
   "cell_type": "code",
   "execution_count": 285,
   "metadata": {},
   "outputs": [
    {
     "name": "stdout",
     "output_type": "stream",
     "text": [
      "*Iteracion: 0  Argumentos:  [-4275.40895 64923.59105]  *Error: 3226973589.75071  *Gradiente:  312754089.5\n",
      "*Iteracion: 10  Argumentos:  [-28325281.20144622 -28256082.20144622]  *Error: 4793640444658220.0  *Gradiente:  421297699115.5335\n",
      "*Iteracion: 20  Argumentos:  [-3.81783447e+10 -3.81782755e+10]  *Error: 8.697006273265163e+21  *Gradiente:  567512167670774.0\n",
      "*Iteracion: 30  Argumentos:  [-5.14284429e+13 -5.14284428e+13]  *Error: 1.5781268656786648e+28  *Gradiente:  7.644714441368302e+17\n",
      "*Iteracion: 40  Argumentos:  [-6.92770627e+16 -6.92770627e+16]  *Error: 2.863611471093676e+34  *Gradiente:  1.0297868877406821e+21\n"
     ]
    },
    {
     "data": {
      "text/plain": [
       "(array([[-4.27540895e+03,  6.49235911e+04],\n",
       "        [ 6.00143217e+04,  1.29213322e+05],\n",
       "        [-7.21396486e+04, -2.94064861e+03],\n",
       "        [ 1.99516053e+05,  2.68715053e+05],\n",
       "        [-3.58899407e+05, -2.89700407e+05],\n",
       "        [ 7.88979412e+05,  8.58178412e+05],\n",
       "        [-1.57060029e+06, -1.50140129e+06],\n",
       "        [ 3.27975174e+06,  3.34895074e+06],\n",
       "        [-6.69063189e+06, -6.62143289e+06],\n",
       "        [ 1.38044887e+07,  1.38736877e+07],\n",
       "        [-2.83252812e+07, -2.82560822e+07],\n",
       "        [ 5.82766738e+07,  5.83458728e+07],\n",
       "        [-1.19742305e+08, -1.19673106e+08],\n",
       "        [ 2.46193508e+08,  2.46262707e+08],\n",
       "        [-5.06024149e+08, -5.05954950e+08],\n",
       "        [ 1.04023447e+09,  1.04030367e+09],\n",
       "        [-2.13825474e+09, -2.13818554e+09],\n",
       "        [ 4.39544768e+09,  4.39551687e+09],\n",
       "        [-9.03523102e+09, -9.03516182e+09],\n",
       "        [ 1.85728721e+10,  1.85729413e+10],\n",
       "        [-3.81783447e+10, -3.81782755e+10],\n",
       "        [ 7.84794565e+10,  7.84795257e+10],\n",
       "        [-1.61322320e+11, -1.61322250e+11],\n",
       "        [ 3.31614211e+11,  3.31614281e+11],\n",
       "        [-6.81666122e+11, -6.81666053e+11],\n",
       "        [ 1.40123293e+12,  1.40123300e+12],\n",
       "        [-2.88037436e+12, -2.88037429e+12],\n",
       "        [ 5.92089759e+12,  5.92089766e+12],\n",
       "        [-1.21709970e+13, -1.21709970e+13],\n",
       "        [ 2.50187016e+13,  2.50187016e+13],\n",
       "        [-5.14284429e+13, -5.14284428e+13],\n",
       "        [ 1.05716307e+14,  1.05716307e+14],\n",
       "        [-2.17310441e+14, -2.17310441e+14],\n",
       "        [ 4.46703343e+14,  4.46703343e+14],\n",
       "        [-9.18243391e+14, -9.18243391e+14],\n",
       "        [ 1.88754111e+15,  1.88754111e+15],\n",
       "        [-3.88002952e+15, -3.88002952e+15],\n",
       "        [ 7.97578867e+15,  7.97578867e+15],\n",
       "        [-1.63950312e+16, -1.63950312e+16],\n",
       "        [ 3.37016261e+16,  3.37016261e+16],\n",
       "        [-6.92770627e+16, -6.92770627e+16],\n",
       "        [ 1.42405930e+17,  1.42405930e+17],\n",
       "        [-2.92729630e+17, -2.92729630e+17],\n",
       "        [ 6.01735027e+17,  6.01735027e+17],\n",
       "        [-1.23692652e+18, -1.23692652e+18],\n",
       "        [ 2.54262616e+18,  2.54262616e+18],\n",
       "        [-5.22662233e+18, -5.22662233e+18],\n",
       "        [ 1.07438449e+19,  1.07438449e+19],\n",
       "        [-2.20850475e+19, -2.20850475e+19],\n",
       "        [ 4.53980236e+19,  4.53980236e+19]]),\n",
       " array([4.00000000e+00, 3.22697359e+09, 1.00466834e+10, 4.95407265e+10,\n",
       "        1.94473964e+11, 8.52005443e+11, 3.53765583e+12, 1.50764912e+13,\n",
       "        6.34418550e+13, 2.68614842e+14, 1.13391562e+15, 4.79364044e+15,\n",
       "        2.02507791e+16, 8.55791678e+16, 3.61594144e+17, 1.52795382e+18,\n",
       "        6.45627161e+18, 2.72810927e+19, 1.15275666e+20, 4.87097062e+20,\n",
       "        2.05822293e+21, 8.69700627e+21, 3.67491185e+22, 1.55283096e+23,\n",
       "        6.56147353e+23, 2.77254503e+24, 1.17153649e+25, 4.95031736e+25,\n",
       "        2.09175232e+26, 8.83868135e+26, 3.73477717e+27, 1.57812687e+28,\n",
       "        6.66836144e+28, 2.81771036e+29, 1.19062108e+30, 5.03095908e+30,\n",
       "        2.12582741e+31, 8.98266537e+31, 3.79561749e+32, 1.60383489e+33,\n",
       "        6.77699048e+33, 2.86361147e+34, 1.21001655e+35, 5.11291449e+35,\n",
       "        2.16045760e+36, 9.12899492e+36, 3.85744892e+37, 1.62996171e+38,\n",
       "        6.88738911e+38, 2.91026032e+39, 1.22972798e+40]))"
      ]
     },
     "execution_count": 285,
     "metadata": {},
     "output_type": "execute_result"
    }
   ],
   "source": [
    "def regresionLineal(argX, argY, EPOCHS, imprimir_error_cada, lr):\n",
    "    ##mb=np.array([0.1,0.2])\n",
    "    count=0\n",
    "    mb=np.array([27000.0, 96199.0])\n",
    "    unos = np.ones_like(argX)\n",
    "    arrXUnos=np.column_stack((argX,unos))\n",
    "    vectorDeErrores=np.ndarray([])\n",
    "    #vectorModeloMB=np.ndarray([])\n",
    "    vectorModeloMB = np.ones(shape = (0, 2), dtype = float)\n",
    "    arrError=np.ndarray([])\n",
    "    \n",
    "    ##error= 0.5*promedio*(argY-yhat)**2\n",
    "    ### Para obtener la función de promedio, se va a dividir en dos unidades:\n",
    "    ## La función según el texto es: error=1/2 * promedio ((y - yhat)**2)\n",
    "    ##arrError= 0.5*(0.5*(argY-yhat)**2)\n",
    "    \n",
    "    while count < EPOCHS:\n",
    "        yhat=np.dot(arrXUnos,mb)\n",
    "        arrError= 0.5*(np.mean(argY-yhat)**2)\n",
    "        gradiente = np.mean(np.dot(np.transpose(yhat - argY),arrXUnos))\n",
    "        \n",
    "        mb[0] = mb[0]-lr * gradiente\n",
    "        mb[1] = mb[1]-lr * gradiente\n",
    "        \n",
    "        vectorDeErrores=np.append(vectorDeErrores,arrError)\n",
    "        \n",
    "        #vectorModeloMB=np.append(vectorDeErrores,np.ndarray(mb))\n",
    "        vectorModeloMB=np.append(vectorModeloMB, [[mb[0], mb[1]]], axis = 0)\n",
    "        ##vectorDeErrores=np.append(vectorDeErrores,arrError)\n",
    "        \n",
    "        if ((count % imprimir_error_cada == 0)):\n",
    "            print(\"*Iteracion:\", count, \" Argumentos: \", \n",
    "                  mb , \" *Error:\", arrError, \" *Gradiente: \",gradiente)\n",
    "        count+=1\n",
    "\n",
    "    \n",
    "    return vectorModeloMB,vectorDeErrores\n",
    "    #return vectorDeErrores.shape\n",
    "    #return vectorModeloMB\n",
    "regresionLineal(dfEntrenamiento[\"Overall\"], dfEntrenamiento[\"SalePrice\"], 50, 10, 0.0001)\n",
    "\n"
   ]
  },
  {
   "cell_type": "markdown",
   "metadata": {},
   "source": [
    "### Función para Overall"
   ]
  },
  {
   "cell_type": "code",
   "execution_count": 286,
   "metadata": {},
   "outputs": [
    {
     "name": "stdout",
     "output_type": "stream",
     "text": [
      "*Iteracion: 0  Argumentos:  [-4275.40895 64923.59105]  *Error: 3226973589.75071  *Gradiente:  312754089.5\n",
      "*Iteracion: 10  Argumentos:  [-28325281.20144622 -28256082.20144622]  *Error: 4793640444658220.0  *Gradiente:  421297699115.5335\n",
      "*Iteracion: 20  Argumentos:  [-3.81783447e+10 -3.81782755e+10]  *Error: 8.697006273265163e+21  *Gradiente:  567512167670774.0\n",
      "*Iteracion: 30  Argumentos:  [-5.14284429e+13 -5.14284428e+13]  *Error: 1.5781268656786648e+28  *Gradiente:  7.644714441368302e+17\n",
      "*Iteracion: 40  Argumentos:  [-6.92770627e+16 -6.92770627e+16]  *Error: 2.863611471093676e+34  *Gradiente:  1.0297868877406821e+21\n",
      "(array([[-4.27540895e+03,  6.49235911e+04],\n",
      "       [ 6.00143217e+04,  1.29213322e+05],\n",
      "       [-7.21396486e+04, -2.94064861e+03],\n",
      "       [ 1.99516053e+05,  2.68715053e+05],\n",
      "       [-3.58899407e+05, -2.89700407e+05],\n",
      "       [ 7.88979412e+05,  8.58178412e+05],\n",
      "       [-1.57060029e+06, -1.50140129e+06],\n",
      "       [ 3.27975174e+06,  3.34895074e+06],\n",
      "       [-6.69063189e+06, -6.62143289e+06],\n",
      "       [ 1.38044887e+07,  1.38736877e+07],\n",
      "       [-2.83252812e+07, -2.82560822e+07],\n",
      "       [ 5.82766738e+07,  5.83458728e+07],\n",
      "       [-1.19742305e+08, -1.19673106e+08],\n",
      "       [ 2.46193508e+08,  2.46262707e+08],\n",
      "       [-5.06024149e+08, -5.05954950e+08],\n",
      "       [ 1.04023447e+09,  1.04030367e+09],\n",
      "       [-2.13825474e+09, -2.13818554e+09],\n",
      "       [ 4.39544768e+09,  4.39551687e+09],\n",
      "       [-9.03523102e+09, -9.03516182e+09],\n",
      "       [ 1.85728721e+10,  1.85729413e+10],\n",
      "       [-3.81783447e+10, -3.81782755e+10],\n",
      "       [ 7.84794565e+10,  7.84795257e+10],\n",
      "       [-1.61322320e+11, -1.61322250e+11],\n",
      "       [ 3.31614211e+11,  3.31614281e+11],\n",
      "       [-6.81666122e+11, -6.81666053e+11],\n",
      "       [ 1.40123293e+12,  1.40123300e+12],\n",
      "       [-2.88037436e+12, -2.88037429e+12],\n",
      "       [ 5.92089759e+12,  5.92089766e+12],\n",
      "       [-1.21709970e+13, -1.21709970e+13],\n",
      "       [ 2.50187016e+13,  2.50187016e+13],\n",
      "       [-5.14284429e+13, -5.14284428e+13],\n",
      "       [ 1.05716307e+14,  1.05716307e+14],\n",
      "       [-2.17310441e+14, -2.17310441e+14],\n",
      "       [ 4.46703343e+14,  4.46703343e+14],\n",
      "       [-9.18243391e+14, -9.18243391e+14],\n",
      "       [ 1.88754111e+15,  1.88754111e+15],\n",
      "       [-3.88002952e+15, -3.88002952e+15],\n",
      "       [ 7.97578867e+15,  7.97578867e+15],\n",
      "       [-1.63950312e+16, -1.63950312e+16],\n",
      "       [ 3.37016261e+16,  3.37016261e+16],\n",
      "       [-6.92770627e+16, -6.92770627e+16],\n",
      "       [ 1.42405930e+17,  1.42405930e+17],\n",
      "       [-2.92729630e+17, -2.92729630e+17],\n",
      "       [ 6.01735027e+17,  6.01735027e+17],\n",
      "       [-1.23692652e+18, -1.23692652e+18],\n",
      "       [ 2.54262616e+18,  2.54262616e+18],\n",
      "       [-5.22662233e+18, -5.22662233e+18],\n",
      "       [ 1.07438449e+19,  1.07438449e+19],\n",
      "       [-2.20850475e+19, -2.20850475e+19],\n",
      "       [ 4.53980236e+19,  4.53980236e+19]]), array([1.22972798e+40, 3.22697359e+09, 1.00466834e+10, 4.95407265e+10,\n",
      "       1.94473964e+11, 8.52005443e+11, 3.53765583e+12, 1.50764912e+13,\n",
      "       6.34418550e+13, 2.68614842e+14, 1.13391562e+15, 4.79364044e+15,\n",
      "       2.02507791e+16, 8.55791678e+16, 3.61594144e+17, 1.52795382e+18,\n",
      "       6.45627161e+18, 2.72810927e+19, 1.15275666e+20, 4.87097062e+20,\n",
      "       2.05822293e+21, 8.69700627e+21, 3.67491185e+22, 1.55283096e+23,\n",
      "       6.56147353e+23, 2.77254503e+24, 1.17153649e+25, 4.95031736e+25,\n",
      "       2.09175232e+26, 8.83868135e+26, 3.73477717e+27, 1.57812687e+28,\n",
      "       6.66836144e+28, 2.81771036e+29, 1.19062108e+30, 5.03095908e+30,\n",
      "       2.12582741e+31, 8.98266537e+31, 3.79561749e+32, 1.60383489e+33,\n",
      "       6.77699048e+33, 2.86361147e+34, 1.21001655e+35, 5.11291449e+35,\n",
      "       2.16045760e+36, 9.12899492e+36, 3.85744892e+37, 1.62996171e+38,\n",
      "       6.88738911e+38, 2.91026032e+39, 1.22972798e+40]))\n"
     ]
    }
   ],
   "source": [
    "resultadoOverall=regresionLineal(dfEntrenamiento[\"Overall\"], dfEntrenamiento[\"SalePrice\"], 50, 10, 0.0001)\n",
    "print(resultadoOverall)"
   ]
  },
  {
   "cell_type": "markdown",
   "metadata": {},
   "source": [
    "### Función para floor"
   ]
  },
  {
   "cell_type": "code",
   "execution_count": 287,
   "metadata": {},
   "outputs": [
    {
     "name": "stdout",
     "output_type": "stream",
     "text": [
      "*Iteracion: 0  Argumentos:  [-23207835.8162355 -23138636.8162355]  *Error: 484736044041592.5  *Gradiente:  23234835816235.5\n",
      "*Iteracion: 10  Argumentos:  [-5.30135288e+36 -5.30135288e+36]  *Error: 2.528733321340055e+73  *Gradiente:  5.3074977388203455e+42\n",
      "*Iteracion: 20  Argumentos:  [-1.21097987e+66 -1.21097987e+66]  *Error: 1.3194819420345122e+132  *Gradiente:  1.2123835292134681e+72\n",
      "*Iteracion: 30  Argumentos:  [-2.76622265e+95 -2.76622265e+95]  *Error: 6.8849988279212945e+190  *Gradiente:  2.7694290120127375e+101\n",
      "*Iteracion: 40  Argumentos:  [-6.31883978e+124 -6.31883978e+124]  *Error: 3.592562152641985e+249  *Gradiente:  6.326164013093745e+130\n",
      "(array([[-2.32078358e+007, -2.31386368e+007],\n",
      "       [ 2.00221876e+010,  2.00222568e+010],\n",
      "       [-1.72737467e+013, -1.72737466e+013],\n",
      "       [ 1.49025836e+016,  1.49025836e+016],\n",
      "       [-1.28569095e+019, -1.28569095e+019],\n",
      "       [ 1.10920446e+022,  1.10920446e+022],\n",
      "       [-9.56944234e+024, -9.56944234e+024],\n",
      "       [ 8.25584729e+027,  8.25584729e+027],\n",
      "       [-7.12256911e+030, -7.12256911e+030],\n",
      "       [ 6.14485576e+033,  6.14485576e+033],\n",
      "       [-5.30135288e+036, -5.30135288e+036],\n",
      "       [ 4.57363745e+039,  4.57363745e+039],\n",
      "       [-3.94581533e+042, -3.94581533e+042],\n",
      "       [ 3.40417421e+045,  3.40417421e+045],\n",
      "       [-2.93688403e+048, -2.93688403e+048],\n",
      "       [ 2.53373866e+051,  2.53373866e+051],\n",
      "       [-2.18593297e+054, -2.18593297e+054],\n",
      "       [ 1.88587047e+057,  1.88587047e+057],\n",
      "       [-1.62699749e+060, -1.62699749e+060],\n",
      "       [ 1.40365993e+063,  1.40365993e+063],\n",
      "       [-1.21097987e+066, -1.21097987e+066],\n",
      "       [ 1.04474895e+069,  1.04474895e+069],\n",
      "       [-9.01336515e+071, -9.01336515e+071],\n",
      "       [ 7.77610268e+074,  7.77610268e+074],\n",
      "       [-6.70867893e+077, -6.70867893e+077],\n",
      "       [ 5.78778019e+080,  5.78778019e+080],\n",
      "       [-4.99329299e+083, -4.99329299e+083],\n",
      "       [ 4.30786486e+086,  4.30786486e+086],\n",
      "       [-3.71652528e+089, -3.71652528e+089],\n",
      "       [ 3.20635875e+092,  3.20635875e+092],\n",
      "       [-2.76622265e+095, -2.76622265e+095],\n",
      "       [ 2.38650393e+098,  2.38650393e+098],\n",
      "       [-2.05890911e+101, -2.05890911e+101],\n",
      "       [ 1.77628315e+104,  1.77628315e+104],\n",
      "       [-1.53245319e+107, -1.53245319e+107],\n",
      "       [ 1.32209371e+110,  1.32209371e+110],\n",
      "       [-1.14061022e+113, -1.14061022e+113],\n",
      "       [ 9.84038931e+115,  9.84038931e+115],\n",
      "       [-8.48960143e+118, -8.48960143e+118],\n",
      "       [ 7.32423588e+121,  7.32423588e+121],\n",
      "       [-6.31883978e+124, -6.31883978e+124],\n",
      "       [ 5.45145416e+127,  5.45145416e+127],\n",
      "       [-4.70313435e+130, -4.70313435e+130],\n",
      "       [ 4.05753623e+133,  4.05753623e+133],\n",
      "       [-3.50055921e+136, -3.50055921e+136],\n",
      "       [ 3.02003828e+139,  3.02003828e+139],\n",
      "       [-2.60547835e+142, -2.60547835e+142],\n",
      "       [ 2.24782496e+145,  2.24782496e+145],\n",
      "       [-1.93926657e+148, -1.93926657e+148],\n",
      "       [ 1.67306391e+151,  1.67306391e+151]]), array([1.22972798e+040, 4.84736044e+014, 3.60705309e+020, 2.68474286e+026,\n",
      "       1.99826342e+032, 1.48731439e+038, 1.10701326e+044, 8.23953805e+049,\n",
      "       6.13271673e+055, 4.56460233e+061, 3.39744934e+067, 2.52873332e+073,\n",
      "       1.88214498e+079, 1.40088703e+085, 1.04268508e+091, 7.76074117e+096,\n",
      "       5.77634656e+102, 4.29935477e+108, 3.20002466e+114, 2.38178945e+120,\n",
      "       1.77277414e+126, 1.31948194e+132, 9.82094984e+137, 7.30976702e+143,\n",
      "       5.44068493e+149, 4.04952066e+155, 3.01407227e+161, 2.24338444e+167,\n",
      "       1.66975881e+173, 1.24280727e+179, 9.25025763e+184, 6.88499883e+190,\n",
      "       5.12452850e+196, 3.81420433e+202, 2.83892551e+208, 2.11302210e+214,\n",
      "       1.57272967e+220, 1.17058815e+226, 8.71272817e+231, 6.48491378e+237,\n",
      "       4.82674381e+243, 3.59256215e+249, 2.67395647e+255, 1.99023507e+261,\n",
      "       1.48133886e+267, 1.10256565e+273, 8.20643436e+278, 6.10807755e+284,\n",
      "       4.54626329e+290, 3.38379953e+296, 2.51857372e+302]))\n"
     ]
    }
   ],
   "source": [
    "resultadoFloor=regresionLineal(dfEntrenamiento[\"Floor\"], dfEntrenamiento[\"SalePrice\"], 50, 10, 0.000001)\n",
    "print(resultadoFloor)"
   ]
  },
  {
   "cell_type": "markdown",
   "metadata": {},
   "source": [
    "##  Visualización de errores"
   ]
  },
  {
   "cell_type": "code",
   "execution_count": 305,
   "metadata": {},
   "outputs": [],
   "source": [
    "#ax = sns.regplot(x=\"Front\", y=\"SalePrice\", data=dfEntrenamiento)\n",
    "#type(resultadoFloor[0])\n",
    "\n",
    "def graficar_error(errores, variableCasa,inicio, fin):\n",
    "    arrRectaNumerica = np.arange(np.size(errores) + 1)\n",
    "    \n",
    "    plt.plot(arrRectaNumerica[:fin:inicio], errores[:fin:inicio])\n",
    "    plt.title('Comportamiento del error para ' + str(variableCasa))\n",
    "    plt.ylabel('Y - Error')\n",
    "    plt.xlabel('X - Numero de Iteracion')    \n",
    "    plt.show()\n",
    "\n",
    "##ax = sns.regplot(x=\"Front\", y=\"SalePrice\", data=dfValidacion)\n",
    "    "
   ]
  },
  {
   "cell_type": "code",
   "execution_count": 302,
   "metadata": {
    "scrolled": true
   },
   "outputs": [
    {
     "data": {
      "image/png": "[encoded data removed]",
      "text/plain": [
       "<Figure size 432x288 with 1 Axes>"
      ]
     },
     "metadata": {
      "needs_background": "light"
     },
     "output_type": "display_data"
    }
   ],
   "source": [
    "#ax = sns.regplot(x=\"Front\", y=\"SalePrice\", data=dfEntrenamiento)\n",
    "#type(resultadoFloor[0])\n",
    "\n",
    "graficar_error(resultadoFloor[1],\"Floor\", 4,1000)"
   ]
  },
  {
   "cell_type": "markdown",
   "metadata": {},
   "source": [
    "## Modelo con Sk"
   ]
  },
  {
   "cell_type": "code",
   "execution_count": 290,
   "metadata": {},
   "outputs": [],
   "source": [
    "def entrenamientoSKT(x, y):\n",
    "    modeloSkt = LinearRegression()    \n",
    "    modeloSkt.fit(x,y)\n",
    "    return np.append(modeloSkt.coef_.flatten(), modeloSkt.intercept_.flatten())\n",
    "\n"
   ]
  },
  {
   "cell_type": "markdown",
   "metadata": {},
   "source": [
    "### Entrenando modelo"
   ]
  },
  {
   "cell_type": "markdown",
   "metadata": {},
   "source": [
    "## Entrenamiento para Overall "
   ]
  },
  {
   "cell_type": "code",
   "execution_count": 291,
   "metadata": {},
   "outputs": [
    {
     "name": "stdout",
     "output_type": "stream",
     "text": [
      "[ 45411.99877916 -96469.57131874]\n"
     ]
    }
   ],
   "source": [
    "serY = dfEntrenamiento[\"SalePrice\"]\n",
    "serX = dfEntrenamiento[\"Overall\"]\n",
    "\n",
    "xx=np.array(dfEntrenamiento[\"Overall\"].values.tolist())\n",
    "yy=np.array(dfEntrenamiento[\"SalePrice\"].values.tolist())\n",
    "\n",
    "print(entrenamientoSKT(xx.reshape(-1, 1), yy.reshape(-1, 1)))\n"
   ]
  },
  {
   "cell_type": "markdown",
   "metadata": {},
   "source": [
    "### Entrenamiento para Floor"
   ]
  },
  {
   "cell_type": "code",
   "execution_count": 292,
   "metadata": {},
   "outputs": [
    {
     "name": "stdout",
     "output_type": "stream",
     "text": [
      "[  129.95124229 30324.58517496]\n"
     ]
    }
   ],
   "source": [
    "xx=np.array(dfEntrenamiento[\"Floor\"].values.tolist())\n",
    "yy=np.array(dfEntrenamiento[\"SalePrice\"].values.tolist())\n",
    "\n",
    "print(entrenamientoSKT(xx.reshape(-1, 1), yy.reshape(-1, 1)))\n"
   ]
  },
  {
   "cell_type": "code",
   "execution_count": null,
   "metadata": {},
   "outputs": [],
   "source": []
  },
  {
   "cell_type": "markdown",
   "metadata": {},
   "source": [
    "# Conclusiones finales: "
   ]
  },
  {
   "cell_type": "markdown",
   "metadata": {},
   "source": [
    "En base a los modelos entrenados manualmente y con la herramienta Sklearn, se pueden concluir los siguientes modelos para las variables: Overall y Floor, que según las graficas, y el analisis exploratorio, tienden a tener mayor relación con el precio de las casas:\n",
    "\n",
    "Para Overall:\n",
    "Y = 45411.99*X-96469.57\n",
    "\n",
    "Para Floor:\n",
    "Y = 129.95*X+30324.58\n",
    "\n",
    "\n",
    "\n"
   ]
  },
  {
   "cell_type": "code",
   "execution_count": 293,
   "metadata": {},
   "outputs": [],
   "source": [
    "\n",
    "######## Codigo comentado que ha optimizado\n",
    "\n",
    "# lmplot(x, y, data=dsDatosEntrenamiento, fit_reg=False)\n",
    "#dsDatosEntrenamiento.columns = [\"Sequence\", \"Start\", \"End\", \"Coverage\"]\n",
    "##arrPrecio=dsDatosEntrenamiento[:,0]\n",
    "##arrOver=dsDatosEntrenamiento[:,1]\n",
    "##arrFloor=dsDatosEntrenamiento[:,2]\n",
    "##arrRooms=dsDatosEntrenamiento[:,3]\n",
    "##arrYear=dsDatosEntrenamiento[:,4]\n",
    "##arrFront=dsDatosEntrenamiento[:,5]\n",
    "\n",
    "\n",
    "##mediaPrecio=np.mean(dsPrecio)\n",
    "##minPrecio=np.min(dsPrecio)\n",
    "##maxPrecio=np.max(dsPrecio)\n",
    "##stdPrecio=np.std(dsPrecio)\n",
    "\n",
    "##dsOverallQual=dsDatosEntrenamiento[:,1]\n",
    "##mediaOverallQual=np.mean(dsOverallQual)\n",
    "##minOverallQual=np.min(dsOverallQual)\n",
    "##maxOverallQual=np.max(dsOverallQual)\n",
    "##stdOverallQual=np.std(dsOverallQual)\n",
    "##print(mediaOverallQual)\n",
    "##print(minOverallQual)\n",
    "##print(maxOverallQual)\n",
    "##print(stdOverallQual)\n",
    "\n",
    "\n"
   ]
  }
 ],
 "metadata": {
  "kernelspec": {
   "display_name": "Python 3",
   "language": "python",
   "name": "python3"
  },
  "language_info": {
   "codemirror_mode": {
    "name": "ipython",
    "version": 3
   },
   "file_extension": ".py",
   "mimetype": "text/x-python",
   "name": "python",
   "nbconvert_exporter": "python",
   "pygments_lexer": "ipython3",
   "version": "3.7.1"
  }
 },
 "nbformat": 4,
 "nbformat_minor": 2
}
