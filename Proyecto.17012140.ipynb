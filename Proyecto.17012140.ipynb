{
 "cells": [
  {
   "cell_type": "markdown",
   "metadata": {},
   "source": [
    "# Proyecto final de Python para Data Science\n",
    "## Estudiante: Erick J. Pineda Amézquita\n",
    "## Carnet:        17012140"
   ]
  },
  {
   "cell_type": "markdown",
   "metadata": {},
   "source": [
    "Problema a resolver:\n",
    "\n",
    "Crear un modelo lineal univariable para predecir el precio de casas en base a variables obtenidas, según los valores proporcionados en el archivo: \"proyecto_training_data.npy\"\n"
   ]
  },
  {
   "cell_type": "markdown",
   "metadata": {},
   "source": [
    "#### Importar paquetes/librerías a utilizar:"
   ]
  },
  {
   "cell_type": "code",
   "execution_count": 1,
   "metadata": {},
   "outputs": [],
   "source": [
    "import numpy as np\n",
    "import seaborn as sns\n",
    "import pandas as pd\n",
    "import matplotlib.pyplot as plt\n",
    "from seaborn import lmplot\n",
    "import sklearn as sl\n",
    "from sklearn.linear_model import LinearRegression\n"
   ]
  },
  {
   "cell_type": "markdown",
   "metadata": {},
   "source": [
    "Extracción de los datos a partir del archivo .npy"
   ]
  },
  {
   "cell_type": "code",
   "execution_count": 2,
   "metadata": {},
   "outputs": [
    {
     "data": {
      "text/plain": [
       "numpy.ndarray"
      ]
     },
     "execution_count": 2,
     "metadata": {},
     "output_type": "execute_result"
    }
   ],
   "source": [
    "origenDeDatos = np.load('proyecto_training_data.npy')\n",
    "type(origenDeDatos)\n",
    "\n",
    "##np.savetxt(\"data.txt\", OrigenDeDatos.tolist())\n",
    "##OrigenDeDatos.tolist()\n"
   ]
  },
  {
   "cell_type": "markdown",
   "metadata": {},
   "source": [
    "### Separación de los datos en 80% y 20%"
   ]
  },
  {
   "cell_type": "code",
   "execution_count": 3,
   "metadata": {},
   "outputs": [
    {
     "name": "stdout",
     "output_type": "stream",
     "text": [
      "Cantidad de datos para ENTRENAMIENTO:    1168\n",
      "Cantidad de datos para VALIDACION:       292\n"
     ]
    }
   ],
   "source": [
    "numDatosEntrenamiento=int(0.8*origenDeDatos.shape[0])\n",
    "print(\"Cantidad de datos para ENTRENAMIENTO:   \", numDatosEntrenamiento)\n",
    "\n",
    "numDatosValidacion=int(0.2*origenDeDatos.shape[0])\n",
    "print(\"Cantidad de datos para VALIDACION:      \", numDatosValidacion)\n"
   ]
  },
  {
   "cell_type": "markdown",
   "metadata": {},
   "source": [
    "#### Creación de Data Frames"
   ]
  },
  {
   "cell_type": "code",
   "execution_count": 4,
   "metadata": {},
   "outputs": [
    {
     "name": "stdout",
     "output_type": "stream",
     "text": [
      "Data Frame de Entrenamiento:    (1168, 6)\n",
      "Data Frame de Validacion:       (292, 6)\n"
     ]
    }
   ],
   "source": [
    "dfEntrenamiento = pd.DataFrame(origenDeDatos[:numDatosEntrenamiento])\n",
    "dfEntrenamiento.columns = [\"SalePrice\", \"Overall\", \"Floor\", \"Rooms\", \"Year\", \"Front\"]\n",
    "\n",
    "dfValidacion = pd.DataFrame(origenDeDatos[numDatosEntrenamiento:])\n",
    "dfValidacion.columns = [\"SalePrice\", \"Overall\", \"Floor\", \"Rooms\", \"Year\", \"Front\"]\n",
    "\n",
    "print(\"Data Frame de Entrenamiento:   \",dfEntrenamiento.shape)\n",
    "print(\"Data Frame de Validacion:      \",dfValidacion.shape)\n"
   ]
  },
  {
   "cell_type": "markdown",
   "metadata": {},
   "source": [
    "#### Presentación de datos para ver como vienen"
   ]
  },
  {
   "cell_type": "code",
   "execution_count": 5,
   "metadata": {},
   "outputs": [
    {
     "data": {
      "text/html": [
       "<div>\n",
       "<style scoped>\n",
       "    .dataframe tbody tr th:only-of-type {\n",
       "        vertical-align: middle;\n",
       "    }\n",
       "\n",
       "    .dataframe tbody tr th {\n",
       "        vertical-align: top;\n",
       "    }\n",
       "\n",
       "    .dataframe thead th {\n",
       "        text-align: right;\n",
       "    }\n",
       "</style>\n",
       "<table border=\"1\" class=\"dataframe\">\n",
       "  <thead>\n",
       "    <tr style=\"text-align: right;\">\n",
       "      <th></th>\n",
       "      <th>SalePrice</th>\n",
       "      <th>Overall</th>\n",
       "      <th>Floor</th>\n",
       "      <th>Rooms</th>\n",
       "      <th>Year</th>\n",
       "      <th>Front</th>\n",
       "    </tr>\n",
       "  </thead>\n",
       "  <tbody>\n",
       "    <tr>\n",
       "      <th>0</th>\n",
       "      <td>208500.0</td>\n",
       "      <td>7.0</td>\n",
       "      <td>856.0</td>\n",
       "      <td>8.0</td>\n",
       "      <td>2003.0</td>\n",
       "      <td>65.0</td>\n",
       "    </tr>\n",
       "    <tr>\n",
       "      <th>1</th>\n",
       "      <td>181500.0</td>\n",
       "      <td>6.0</td>\n",
       "      <td>1262.0</td>\n",
       "      <td>6.0</td>\n",
       "      <td>1976.0</td>\n",
       "      <td>80.0</td>\n",
       "    </tr>\n",
       "  </tbody>\n",
       "</table>\n",
       "</div>"
      ],
      "text/plain": [
       "   SalePrice  Overall   Floor  Rooms    Year  Front\n",
       "0   208500.0      7.0   856.0    8.0  2003.0   65.0\n",
       "1   181500.0      6.0  1262.0    6.0  1976.0   80.0"
      ]
     },
     "execution_count": 5,
     "metadata": {},
     "output_type": "execute_result"
    }
   ],
   "source": [
    "dfEntrenamiento.head(2)"
   ]
  },
  {
   "cell_type": "markdown",
   "metadata": {},
   "source": [
    "#### Analitica de datos por medio de estadística"
   ]
  },
  {
   "cell_type": "code",
   "execution_count": 6,
   "metadata": {
    "scrolled": true
   },
   "outputs": [
    {
     "data": {
      "text/html": [
       "<div>\n",
       "<style scoped>\n",
       "    .dataframe tbody tr th:only-of-type {\n",
       "        vertical-align: middle;\n",
       "    }\n",
       "\n",
       "    .dataframe tbody tr th {\n",
       "        vertical-align: top;\n",
       "    }\n",
       "\n",
       "    .dataframe thead th {\n",
       "        text-align: right;\n",
       "    }\n",
       "</style>\n",
       "<table border=\"1\" class=\"dataframe\">\n",
       "  <thead>\n",
       "    <tr style=\"text-align: right;\">\n",
       "      <th></th>\n",
       "      <th>SalePrice</th>\n",
       "      <th>Overall</th>\n",
       "      <th>Floor</th>\n",
       "      <th>Rooms</th>\n",
       "      <th>Year</th>\n",
       "      <th>Front</th>\n",
       "    </tr>\n",
       "  </thead>\n",
       "  <tbody>\n",
       "    <tr>\n",
       "      <th>count</th>\n",
       "      <td>1168.000000</td>\n",
       "      <td>1168.000000</td>\n",
       "      <td>1168.000000</td>\n",
       "      <td>1168.000000</td>\n",
       "      <td>1168.000000</td>\n",
       "      <td>962.000000</td>\n",
       "    </tr>\n",
       "    <tr>\n",
       "      <th>mean</th>\n",
       "      <td>180590.277397</td>\n",
       "      <td>6.101027</td>\n",
       "      <td>1156.323630</td>\n",
       "      <td>6.485445</td>\n",
       "      <td>1971.451199</td>\n",
       "      <td>69.946985</td>\n",
       "    </tr>\n",
       "    <tr>\n",
       "      <th>std</th>\n",
       "      <td>78815.697902</td>\n",
       "      <td>1.378025</td>\n",
       "      <td>373.780374</td>\n",
       "      <td>1.609141</td>\n",
       "      <td>29.951707</td>\n",
       "      <td>23.478161</td>\n",
       "    </tr>\n",
       "    <tr>\n",
       "      <th>min</th>\n",
       "      <td>34900.000000</td>\n",
       "      <td>1.000000</td>\n",
       "      <td>334.000000</td>\n",
       "      <td>2.000000</td>\n",
       "      <td>1875.000000</td>\n",
       "      <td>21.000000</td>\n",
       "    </tr>\n",
       "    <tr>\n",
       "      <th>25%</th>\n",
       "      <td>129900.000000</td>\n",
       "      <td>5.000000</td>\n",
       "      <td>882.000000</td>\n",
       "      <td>5.000000</td>\n",
       "      <td>1954.000000</td>\n",
       "      <td>59.000000</td>\n",
       "    </tr>\n",
       "    <tr>\n",
       "      <th>50%</th>\n",
       "      <td>162950.000000</td>\n",
       "      <td>6.000000</td>\n",
       "      <td>1086.000000</td>\n",
       "      <td>6.000000</td>\n",
       "      <td>1973.000000</td>\n",
       "      <td>70.000000</td>\n",
       "    </tr>\n",
       "    <tr>\n",
       "      <th>75%</th>\n",
       "      <td>214000.000000</td>\n",
       "      <td>7.000000</td>\n",
       "      <td>1390.250000</td>\n",
       "      <td>7.000000</td>\n",
       "      <td>2000.000000</td>\n",
       "      <td>80.000000</td>\n",
       "    </tr>\n",
       "    <tr>\n",
       "      <th>max</th>\n",
       "      <td>755000.000000</td>\n",
       "      <td>10.000000</td>\n",
       "      <td>3228.000000</td>\n",
       "      <td>14.000000</td>\n",
       "      <td>2010.000000</td>\n",
       "      <td>313.000000</td>\n",
       "    </tr>\n",
       "  </tbody>\n",
       "</table>\n",
       "</div>"
      ],
      "text/plain": [
       "           SalePrice      Overall        Floor        Rooms         Year  \\\n",
       "count    1168.000000  1168.000000  1168.000000  1168.000000  1168.000000   \n",
       "mean   180590.277397     6.101027  1156.323630     6.485445  1971.451199   \n",
       "std     78815.697902     1.378025   373.780374     1.609141    29.951707   \n",
       "min     34900.000000     1.000000   334.000000     2.000000  1875.000000   \n",
       "25%    129900.000000     5.000000   882.000000     5.000000  1954.000000   \n",
       "50%    162950.000000     6.000000  1086.000000     6.000000  1973.000000   \n",
       "75%    214000.000000     7.000000  1390.250000     7.000000  2000.000000   \n",
       "max    755000.000000    10.000000  3228.000000    14.000000  2010.000000   \n",
       "\n",
       "            Front  \n",
       "count  962.000000  \n",
       "mean    69.946985  \n",
       "std     23.478161  \n",
       "min     21.000000  \n",
       "25%     59.000000  \n",
       "50%     70.000000  \n",
       "75%     80.000000  \n",
       "max    313.000000  "
      ]
     },
     "execution_count": 6,
     "metadata": {},
     "output_type": "execute_result"
    }
   ],
   "source": [
    "dfEntrenamiento.describe()"
   ]
  },
  {
   "cell_type": "markdown",
   "metadata": {},
   "source": [
    "#### Media, minimo, maximo, rangos"
   ]
  },
  {
   "cell_type": "code",
   "execution_count": 7,
   "metadata": {},
   "outputs": [
    {
     "data": {
      "text/plain": [
       "SalePrice    180590.277397\n",
       "Overall           6.101027\n",
       "Floor          1156.323630\n",
       "Rooms             6.485445\n",
       "Year           1971.451199\n",
       "Front            69.946985\n",
       "dtype: float64"
      ]
     },
     "execution_count": 7,
     "metadata": {},
     "output_type": "execute_result"
    }
   ],
   "source": [
    "dfEntrenamiento.mean(axis=0)\n"
   ]
  },
  {
   "cell_type": "code",
   "execution_count": 8,
   "metadata": {},
   "outputs": [
    {
     "data": {
      "text/plain": [
       "SalePrice    34900.0\n",
       "Overall          1.0\n",
       "Floor          334.0\n",
       "Rooms            2.0\n",
       "Year          1875.0\n",
       "Front           21.0\n",
       "dtype: float64"
      ]
     },
     "execution_count": 8,
     "metadata": {},
     "output_type": "execute_result"
    }
   ],
   "source": [
    "dfEntrenamiento.min(axis=0)\n"
   ]
  },
  {
   "cell_type": "code",
   "execution_count": 9,
   "metadata": {},
   "outputs": [
    {
     "data": {
      "text/plain": [
       "SalePrice    755000.0\n",
       "Overall          10.0\n",
       "Floor          3228.0\n",
       "Rooms            14.0\n",
       "Year           2010.0\n",
       "Front           313.0\n",
       "dtype: float64"
      ]
     },
     "execution_count": 9,
     "metadata": {},
     "output_type": "execute_result"
    }
   ],
   "source": [
    "dfEntrenamiento.max(axis=0)\n"
   ]
  },
  {
   "cell_type": "code",
   "execution_count": 10,
   "metadata": {},
   "outputs": [
    {
     "data": {
      "text/plain": [
       "SalePrice    78815.697902\n",
       "Overall          1.378025\n",
       "Floor          373.780374\n",
       "Rooms            1.609141\n",
       "Year            29.951707\n",
       "Front           23.478161\n",
       "dtype: float64"
      ]
     },
     "execution_count": 10,
     "metadata": {},
     "output_type": "execute_result"
    }
   ],
   "source": [
    "dfEntrenamiento.std(axis=0)\n"
   ]
  },
  {
   "cell_type": "markdown",
   "metadata": {},
   "source": [
    "#### Correlación entre todas las variables"
   ]
  },
  {
   "cell_type": "code",
   "execution_count": 11,
   "metadata": {},
   "outputs": [
    {
     "data": {
      "text/html": [
       "<div>\n",
       "<style scoped>\n",
       "    .dataframe tbody tr th:only-of-type {\n",
       "        vertical-align: middle;\n",
       "    }\n",
       "\n",
       "    .dataframe tbody tr th {\n",
       "        vertical-align: top;\n",
       "    }\n",
       "\n",
       "    .dataframe thead th {\n",
       "        text-align: right;\n",
       "    }\n",
       "</style>\n",
       "<table border=\"1\" class=\"dataframe\">\n",
       "  <thead>\n",
       "    <tr style=\"text-align: right;\">\n",
       "      <th></th>\n",
       "      <th>SalePrice</th>\n",
       "      <th>Overall</th>\n",
       "      <th>Floor</th>\n",
       "      <th>Rooms</th>\n",
       "      <th>Year</th>\n",
       "      <th>Front</th>\n",
       "    </tr>\n",
       "  </thead>\n",
       "  <tbody>\n",
       "    <tr>\n",
       "      <th>SalePrice</th>\n",
       "      <td>1.000000</td>\n",
       "      <td>0.793990</td>\n",
       "      <td>0.616289</td>\n",
       "      <td>0.564707</td>\n",
       "      <td>0.534171</td>\n",
       "      <td>0.363292</td>\n",
       "    </tr>\n",
       "    <tr>\n",
       "      <th>Overall</th>\n",
       "      <td>0.793990</td>\n",
       "      <td>1.000000</td>\n",
       "      <td>0.469411</td>\n",
       "      <td>0.444293</td>\n",
       "      <td>0.567313</td>\n",
       "      <td>0.242420</td>\n",
       "    </tr>\n",
       "    <tr>\n",
       "      <th>Floor</th>\n",
       "      <td>0.616289</td>\n",
       "      <td>0.469411</td>\n",
       "      <td>1.000000</td>\n",
       "      <td>0.409318</td>\n",
       "      <td>0.292074</td>\n",
       "      <td>0.417388</td>\n",
       "    </tr>\n",
       "    <tr>\n",
       "      <th>Rooms</th>\n",
       "      <td>0.564707</td>\n",
       "      <td>0.444293</td>\n",
       "      <td>0.409318</td>\n",
       "      <td>1.000000</td>\n",
       "      <td>0.122911</td>\n",
       "      <td>0.341005</td>\n",
       "    </tr>\n",
       "    <tr>\n",
       "      <th>Year</th>\n",
       "      <td>0.534171</td>\n",
       "      <td>0.567313</td>\n",
       "      <td>0.292074</td>\n",
       "      <td>0.122911</td>\n",
       "      <td>1.000000</td>\n",
       "      <td>0.121474</td>\n",
       "    </tr>\n",
       "    <tr>\n",
       "      <th>Front</th>\n",
       "      <td>0.363292</td>\n",
       "      <td>0.242420</td>\n",
       "      <td>0.417388</td>\n",
       "      <td>0.341005</td>\n",
       "      <td>0.121474</td>\n",
       "      <td>1.000000</td>\n",
       "    </tr>\n",
       "  </tbody>\n",
       "</table>\n",
       "</div>"
      ],
      "text/plain": [
       "           SalePrice   Overall     Floor     Rooms      Year     Front\n",
       "SalePrice   1.000000  0.793990  0.616289  0.564707  0.534171  0.363292\n",
       "Overall     0.793990  1.000000  0.469411  0.444293  0.567313  0.242420\n",
       "Floor       0.616289  0.469411  1.000000  0.409318  0.292074  0.417388\n",
       "Rooms       0.564707  0.444293  0.409318  1.000000  0.122911  0.341005\n",
       "Year        0.534171  0.567313  0.292074  0.122911  1.000000  0.121474\n",
       "Front       0.363292  0.242420  0.417388  0.341005  0.121474  1.000000"
      ]
     },
     "execution_count": 11,
     "metadata": {},
     "output_type": "execute_result"
    }
   ],
   "source": [
    "dfEntrenamiento.corr()\n"
   ]
  },
  {
   "cell_type": "markdown",
   "metadata": {},
   "source": [
    "#### Rangos\n"
   ]
  },
  {
   "cell_type": "code",
   "execution_count": 12,
   "metadata": {},
   "outputs": [
    {
     "name": "stdout",
     "output_type": "stream",
     "text": [
      "Intervalo SalePrice:   [ 34900.0   -    755000.0 ]\n",
      "Intervalo Overall:     [ 1.0   -    755000.0 ]\n",
      "Intervalo Floor:       [ 334.0   -    755000.0 ]\n",
      "Intervalo Rooms:       [ 2.0   -    755000.0 ]\n",
      "Intervalo Year:        [ 1875.0   -    755000.0 ]\n",
      "Intervalo Front:       [ 21.0   -    755000.0 ]\n"
     ]
    }
   ],
   "source": [
    "print (\"Intervalo SalePrice:   [\", dfEntrenamiento[\"SalePrice\"].min(),\"  -   \",dfEntrenamiento[\"SalePrice\"].max(), \"]\")\n",
    "print (\"Intervalo Overall:     [\", dfEntrenamiento[\"Overall\"].min(),\"  -   \",dfEntrenamiento[\"SalePrice\"].max(), \"]\")\n",
    "print (\"Intervalo Floor:       [\", dfEntrenamiento[\"Floor\"].min(),\"  -   \",dfEntrenamiento[\"SalePrice\"].max(), \"]\")\n",
    "print (\"Intervalo Rooms:       [\", dfEntrenamiento[\"Rooms\"].min(),\"  -   \",dfEntrenamiento[\"SalePrice\"].max(), \"]\")\n",
    "print (\"Intervalo Year:        [\", dfEntrenamiento[\"Year\"].min(),\"  -   \",dfEntrenamiento[\"SalePrice\"].max(), \"]\")\n",
    "print (\"Intervalo Front:       [\", dfEntrenamiento[\"Front\"].min(),\"  -   \",dfEntrenamiento[\"SalePrice\"].max(), \"]\")\n",
    "\n"
   ]
  },
  {
   "cell_type": "markdown",
   "metadata": {},
   "source": [
    "##  Graficas de cada Variable. Histogramas"
   ]
  },
  {
   "cell_type": "code",
   "execution_count": 13,
   "metadata": {},
   "outputs": [
    {
     "name": "stderr",
     "output_type": "stream",
     "text": [
      "C:\\ProgramData\\Anaconda3\\lib\\site-packages\\scipy\\stats\\stats.py:1713: FutureWarning: Using a non-tuple sequence for multidimensional indexing is deprecated; use `arr[tuple(seq)]` instead of `arr[seq]`. In the future this will be interpreted as an array index, `arr[np.array(seq)]`, which will result either in an error or a different result.\n",
      "  return np.add.reduce(sorted[indexer] * weights, axis=axis) / sumval\n"
     ]
    },
    {
     "data": {
      "text/plain": [
       "<matplotlib.axes._subplots.AxesSubplot at 0x14986abda20>"
      ]
     },
     "execution_count": 13,
     "metadata": {},
     "output_type": "execute_result"
    },
    {
     "data": {
      "image/png": "[encoded data removed]",
      "text/plain": [
       "<Figure size 432x288 with 1 Axes>"
      ]
     },
     "metadata": {
      "needs_background": "light"
     },
     "output_type": "display_data"
    }
   ],
   "source": [
    "#sns.distplot(dfEntrenamiento[\"SalePrice\"], hist=False, color=\"g\", kde_kws={\"shade\": True})\n",
    "sns.distplot(dfEntrenamiento[\"SalePrice\"], color=\"m\")\n"
   ]
  },
  {
   "cell_type": "code",
   "execution_count": 14,
   "metadata": {},
   "outputs": [
    {
     "data": {
      "text/plain": [
       "<matplotlib.axes._subplots.AxesSubplot at 0x14986e30cf8>"
      ]
     },
     "execution_count": 14,
     "metadata": {},
     "output_type": "execute_result"
    },
    {
     "data": {
      "image/png": "[encoded data removed]",
      "text/plain": [
       "<Figure size 432x288 with 1 Axes>"
      ]
     },
     "metadata": {
      "needs_background": "light"
     },
     "output_type": "display_data"
    }
   ],
   "source": [
    "sns.distplot(dfEntrenamiento[\"Overall\"], color=\"r\")\n"
   ]
  },
  {
   "cell_type": "code",
   "execution_count": 15,
   "metadata": {},
   "outputs": [
    {
     "data": {
      "text/plain": [
       "<matplotlib.axes._subplots.AxesSubplot at 0x14986f18898>"
      ]
     },
     "execution_count": 15,
     "metadata": {},
     "output_type": "execute_result"
    },
    {
     "data": {
      "image/png": "[encoded data removed]",
      "text/plain": [
       "<Figure size 432x288 with 1 Axes>"
      ]
     },
     "metadata": {
      "needs_background": "light"
     },
     "output_type": "display_data"
    }
   ],
   "source": [
    "sns.distplot(dfEntrenamiento[\"Floor\"], color=\"b\")\n"
   ]
  },
  {
   "cell_type": "code",
   "execution_count": 16,
   "metadata": {},
   "outputs": [
    {
     "data": {
      "text/plain": [
       "<matplotlib.axes._subplots.AxesSubplot at 0x14986f3b2e8>"
      ]
     },
     "execution_count": 16,
     "metadata": {},
     "output_type": "execute_result"
    },
    {
     "data": {
      "image/png": "[encoded data removed]",
      "text/plain": [
       "<Figure size 432x288 with 1 Axes>"
      ]
     },
     "metadata": {
      "needs_background": "light"
     },
     "output_type": "display_data"
    }
   ],
   "source": [
    "sns.distplot(dfEntrenamiento[\"Rooms\"], color=\"g\")\n"
   ]
  },
  {
   "cell_type": "code",
   "execution_count": 17,
   "metadata": {},
   "outputs": [
    {
     "data": {
      "text/plain": [
       "<matplotlib.axes._subplots.AxesSubplot at 0x149870814a8>"
      ]
     },
     "execution_count": 17,
     "metadata": {},
     "output_type": "execute_result"
    },
    {
     "data": {
      "image/png": "[encoded data removed]",
      "text/plain": [
       "<Figure size 432x288 with 1 Axes>"
      ]
     },
     "metadata": {
      "needs_background": "light"
     },
     "output_type": "display_data"
    }
   ],
   "source": [
    "sns.distplot(dfEntrenamiento[\"Year\"], color=\"g\",bins=20)\n"
   ]
  },
  {
   "cell_type": "code",
   "execution_count": 18,
   "metadata": {},
   "outputs": [
    {
     "name": "stderr",
     "output_type": "stream",
     "text": [
      "C:\\ProgramData\\Anaconda3\\lib\\site-packages\\numpy\\lib\\histograms.py:754: RuntimeWarning: invalid value encountered in greater_equal\n",
      "  keep = (tmp_a >= first_edge)\n",
      "C:\\ProgramData\\Anaconda3\\lib\\site-packages\\numpy\\lib\\histograms.py:755: RuntimeWarning: invalid value encountered in less_equal\n",
      "  keep &= (tmp_a <= last_edge)\n",
      "C:\\ProgramData\\Anaconda3\\lib\\site-packages\\statsmodels\\nonparametric\\kde.py:448: RuntimeWarning: invalid value encountered in greater\n",
      "  X = X[np.logical_and(X > clip[0], X < clip[1])] # won't work for two columns.\n",
      "C:\\ProgramData\\Anaconda3\\lib\\site-packages\\statsmodels\\nonparametric\\kde.py:448: RuntimeWarning: invalid value encountered in less\n",
      "  X = X[np.logical_and(X > clip[0], X < clip[1])] # won't work for two columns.\n"
     ]
    },
    {
     "data": {
      "text/plain": [
       "<matplotlib.axes._subplots.AxesSubplot at 0x14987135748>"
      ]
     },
     "execution_count": 18,
     "metadata": {},
     "output_type": "execute_result"
    },
    {
     "data": {
      "image/png": "[encoded data removed]",
      "text/plain": [
       "<Figure size 432x288 with 1 Axes>"
      ]
     },
     "metadata": {
      "needs_background": "light"
     },
     "output_type": "display_data"
    }
   ],
   "source": [
    "sns.distplot(dfEntrenamiento[\"Front\"], color=\"b\",bins=20)\n",
    "\n"
   ]
  },
  {
   "cell_type": "markdown",
   "metadata": {},
   "source": [
    "# Graficas X,Y para observar el comportamiento del precio y sus variables"
   ]
  },
  {
   "cell_type": "code",
   "execution_count": 19,
   "metadata": {},
   "outputs": [
    {
     "data": {
      "image/png": "[encoded data removed]",
      "text/plain": [
       "<Figure size 432x288 with 1 Axes>"
      ]
     },
     "metadata": {
      "needs_background": "light"
     },
     "output_type": "display_data"
    }
   ],
   "source": [
    "ax = sns.regplot(x=\"Overall\", y=\"SalePrice\", data=dfEntrenamiento)"
   ]
  },
  {
   "cell_type": "code",
   "execution_count": 20,
   "metadata": {},
   "outputs": [
    {
     "data": {
      "image/png": "[encoded data removed]",
      "text/plain": [
       "<Figure size 432x288 with 1 Axes>"
      ]
     },
     "metadata": {
      "needs_background": "light"
     },
     "output_type": "display_data"
    }
   ],
   "source": [
    "ax = sns.regplot(x=\"Floor\", y=\"SalePrice\", data=dfEntrenamiento)"
   ]
  },
  {
   "cell_type": "code",
   "execution_count": 21,
   "metadata": {},
   "outputs": [
    {
     "data": {
      "image/png": "[encoded data removed]",
      "text/plain": [
       "<Figure size 432x288 with 1 Axes>"
      ]
     },
     "metadata": {
      "needs_background": "light"
     },
     "output_type": "display_data"
    }
   ],
   "source": [
    "ax = sns.regplot(x=\"Rooms\", y=\"SalePrice\", data=dfEntrenamiento)"
   ]
  },
  {
   "cell_type": "code",
   "execution_count": 22,
   "metadata": {},
   "outputs": [
    {
     "data": {
      "image/png": "[encoded data removed]",
      "text/plain": [
       "<Figure size 432x288 with 1 Axes>"
      ]
     },
     "metadata": {
      "needs_background": "light"
     },
     "output_type": "display_data"
    }
   ],
   "source": [
    "ax = sns.regplot(x=\"Year\", y=\"SalePrice\", data=dfEntrenamiento)"
   ]
  },
  {
   "cell_type": "code",
   "execution_count": 23,
   "metadata": {},
   "outputs": [
    {
     "data": {
      "image/png": "[encoded data removed]",
      "text/plain": [
       "<Figure size 432x288 with 1 Axes>"
      ]
     },
     "metadata": {
      "needs_background": "light"
     },
     "output_type": "display_data"
    }
   ],
   "source": [
    "ax = sns.regplot(x=\"Front\", y=\"SalePrice\", data=dfEntrenamiento)"
   ]
  },
  {
   "cell_type": "markdown",
   "metadata": {},
   "source": [
    "### Funcion de entrenamiento manual"
   ]
  },
  {
   "cell_type": "markdown",
   "metadata": {},
   "source": [
    "## Se tomarán las 2 variables: Overall y Floor, segun la tendencia de las mismas"
   ]
  },
  {
   "cell_type": "code",
   "execution_count": 24,
   "metadata": {},
   "outputs": [
    {
     "name": "stdout",
     "output_type": "stream",
     "text": [
      "*Iteracion: 0  Argumentos:  [-26167.5191  86815.7012]  *Error: 4695488468.14298  *Gradiente:  [5.31675191e+08 9.38329880e+07]\n",
      "*Iteracion: 10  Argumentos:  [-1.91265569e+10 -2.98646002e+09]  *Error: 5.543017692135422e+20  *Gradiente:  [2.43233493e+14 3.79800118e+13]\n",
      "*Iteracion: 20  Argumentos:  [-8.72307910e+15 -1.36207622e+15]  *Error: 1.1529527307306939e+32  *Gradiente:  [1.10931784e+20 1.73215838e+19]\n",
      "*Iteracion: 30  Argumentos:  [-3.97834488e+21 -6.21203696e+20]  *Error: 2.3981521855686194e+43  *Gradiente:  [5.05927886e+25 7.89987499e+24]\n",
      "*Iteracion: 40  Argumentos:  [-1.81440840e+27 -2.83313096e+26]  *Error: 4.988178397827905e+54  *Gradiente:  [2.30739122e+31 3.60290522e+30]\n"
     ]
    },
    {
     "data": {
      "text/plain": [
       "([[-26167.519100000005, 86815.7012],\n",
       "  [170284.52879659992, 116415.5458105],\n",
       "  [-551984.969825386, 2566.39923937642],\n",
       "  [2107068.2265027817, 416704.0777057857],\n",
       "  [-7678738.951506868, -1112370.8323761313],\n",
       "  [28338382.80916962, 4510516.402089195],\n",
       "  [-104220797.62231687, -16189150.559089119],\n",
       "  [383660011.85028064, 59990575.55627573],\n",
       "  [-1411969846.149125, -220391355.1688081],\n",
       "  [5196792406.857045, 811541160.4251765],\n",
       "  [-19126556937.184887, -2986460023.2944117],\n",
       "  [70394797185.08841, 10991964073.808716],\n",
       "  [-259085844959.7252, -40455208711.16169],\n",
       "  [953557718310.1129, 148894553877.5467],\n",
       "  [-3509540328533.306, -548001538990.1922],\n",
       "  [12916757376037.79, 2016903499969.639],\n",
       "  [-47539735721880.195, -7423152113898.404],\n",
       "  [174968563073650.97, 27320687749509.6],\n",
       "  [-643966517274023.0, -100552966604823.84],\n",
       "  [2370099337595794.5, 370082160125181.25],\n",
       "  [-8723079102913364.0, -1362076224127111.0],\n",
       "  [3.2105029451570108e+16, 5013080447608093.0],\n",
       "  [-1.1816159224537075e+17, -1.84504913358403e+16],\n",
       "  [4.3489017516823584e+17, 6.790647668625814e+16],\n",
       "  [-1.600600168496956e+18, -2.499277386155606e+17],\n",
       "  [5.890960627936926e+18, 9.198515013256879e+17],\n",
       "  [-2.1681502853077107e+19, -3.3854856974969846e+18],\n",
       "  [7.979811709123894e+19, 1.2460177965073494e+19],\n",
       "  [-2.9369456233996144e+20, -4.5859309060464e+19],\n",
       "  [1.0809339755402809e+21, 1.6878380336125503e+20],\n",
       "  [-3.9783448837736015e+21, -6.212036958413466e+20],\n",
       "  [1.4642178312821296e+22, 2.286321460009988e+21],\n",
       "  [-5.38900955065248e+22, -8.414737152235613e+21],\n",
       "  [1.98340870576571e+23, 3.097018620509503e+22],\n",
       "  [-7.299875899516458e+23, -1.1398483591652424e+23],\n",
       "  [2.6866973001295344e+24, 4.195177495180693e+23],\n",
       "  [-9.888308351928893e+24, -1.544022419697945e+24],\n",
       "  [3.639362054598139e+25, 5.682727930507313e+24],\n",
       "  [-1.3394562237599671e+26, -2.091510869284226e+25],\n",
       "  [4.929828218389268e+26, 7.697742650761681e+25],\n",
       "  [-1.8144084018368234e+27, -2.8331309575089184e+26],\n",
       "  [6.677875379868073e+27, 1.0427253009817302e+27],\n",
       "  [-2.4577718855304767e+28, -3.8377190098669163e+27],\n",
       "  [9.045755270478451e+28, 1.412460902677572e+28],\n",
       "  [-3.329262935063974e+29, -5.198519736498117e+28],\n",
       "  [1.2253251784253199e+30, 1.913299504399067e+29],\n",
       "  [-4.509772349519103e+30, -7.04184109917358e+29],\n",
       "  [1.6598081066630684e+31, 2.5917283703882886e+30],\n",
       "  [-6.108873657975699e+31, -9.538778071354109e+30],\n",
       "  [2.248352518541163e+32, 3.5107184894114877e+31]],\n",
       " [4695488468.14298,\n",
       "  38119207695.7611,\n",
       "  490994555561.1253,\n",
       "  6625700819956.921,\n",
       "  89725681432849.19,\n",
       "  1215386350283397.2,\n",
       "  1.6463426223721408e+16,\n",
       "  2.230112116806923e+17,\n",
       "  3.020878216824529e+18,\n",
       "  4.092038781871431e+19,\n",
       "  5.543017692135422e+20,\n",
       "  7.508493143491072e+21,\n",
       "  1.0170898311584228e+23,\n",
       "  1.377735458868796e+24,\n",
       "  1.8662609107619607e+25,\n",
       "  2.528010558643651e+26,\n",
       "  3.4244072453966446e+27,\n",
       "  4.638653482767353e+28,\n",
       "  6.2834542130217295e+29,\n",
       "  8.511477952344492e+30,\n",
       "  1.1529527307306939e+32,\n",
       "  1.5617734155478937e+33,\n",
       "  2.1155561164821616e+34,\n",
       "  2.8657023083050607e+35,\n",
       "  3.881839699662813e+36,\n",
       "  5.258284997087055e+37,\n",
       "  7.122798273456004e+38,\n",
       "  9.64844151133929e+39,\n",
       "  1.3069642017611759e+41,\n",
       "  1.7703951697046496e+42,\n",
       "  2.3981521855686194e+43,\n",
       "  3.2485029351424305e+44,\n",
       "  4.400375999126531e+45,\n",
       "  5.960686913413496e+46,\n",
       "  8.074261946431711e+47,\n",
       "  1.0937280707176128e+49,\n",
       "  1.4815485311377042e+50,\n",
       "  2.0068846259711444e+51,\n",
       "  2.7184974486570196e+52,\n",
       "  3.6824380847396873e+53,\n",
       "  4.988178397827905e+54,\n",
       "  6.756915705295666e+55,\n",
       "  9.152822174193593e+56,\n",
       "  1.239828309338709e+58,\n",
       "  1.6794538420857023e+59,\n",
       "  2.274964353089206e+60,\n",
       "  3.081634444564041e+61,\n",
       "  4.174338308654238e+62,\n",
       "  5.654499464021963e+63,\n",
       "  7.659504770453779e+64])"
      ]
     },
     "execution_count": 24,
     "metadata": {},
     "output_type": "execute_result"
    }
   ],
   "source": [
    "def regresionLineal(argX, argY, EPOCHS, imprimir_error_cada, lr):\n",
    "    #mb=np.array([0.1,0.2])\n",
    "    #mb=np.array([[0.1,0.2]])\n",
    "    count=0\n",
    "    \n",
    "    mb=np.array([27000.0, 96199.0])\n",
    "    unos = np.ones_like(argX)\n",
    "    arrXUnos=np.column_stack((argX,unos))\n",
    "    vectorDeErrores=[]\n",
    "    vectorModeloMB=[]\n",
    "    \n",
    "    ##vectorModeloMB = np.ones(shape = (0, 2), dtype = float)\n",
    "    #arrError=np.ndarray([])\n",
    "    \n",
    "    while count < EPOCHS:\n",
    "        #yhat=np.dot(arrXUnos,mb)\n",
    "        yhat=np.matmul(arrXUnos,mb)\n",
    "        ##arrError= 0.5*(np.mean(argY-yhat)**2)\n",
    "        arrError= 0.5*(np.mean(np.power(argY-yhat,2)))\n",
    "        \n",
    "        ##gradiente = np.mean(np.dot(np.transpose(yhat - argY),arrXUnos))\n",
    "        #gradiente = np.mean(np.dot((yhat - argY),arrXUnos))\n",
    "        \n",
    "        ndToArr=np.array([np.dot((yhat - argY),arrXUnos)])\n",
    "        gradiente = ndToArr.mean(axis=0)\n",
    "        \n",
    "        mb-= lr * gradiente  \n",
    "        #mb[0] = mb[0]-lr * gradiente\n",
    "        #mb[1] = mb[1]-lr * gradiente\n",
    "        \n",
    "        ## Codigo que estaba dando el error, al aplicaro de esta manejra, la variable es por referencia.\n",
    "        vectorDeErrores.append(arrError)\n",
    "        \n",
    "        ### Se utilizó list ya que de lo contrario los valores van cambiando porque la variable se va por referencia.\n",
    "        vectorModeloMB.append(list(mb))\n",
    "        \n",
    "        \n",
    "        #vectorModeloMB=np.append(vectorDeErrores,np.ndarray(mb))\n",
    "        #vectorModeloMB=np.append(vectorModeloMB, [[mb[0], mb[1]]], axis = 0)\n",
    "        \n",
    "        \n",
    "        if ((count % imprimir_error_cada == 0)):\n",
    "            print(\"*Iteracion:\", count, \" Argumentos: \", \n",
    "                  mb , \" *Error:\", arrError, \" *Gradiente: \",gradiente)\n",
    "        count+=1\n",
    "        \n",
    "\n",
    "    \n",
    "    return vectorModeloMB,vectorDeErrores\n",
    "    \n",
    "regresionLineal(dfEntrenamiento[\"Overall\"], dfEntrenamiento[\"SalePrice\"], 50, 10, 0.0001)\n",
    "\n"
   ]
  },
  {
   "cell_type": "markdown",
   "metadata": {},
   "source": [
    "### Función para Overall"
   ]
  },
  {
   "cell_type": "code",
   "execution_count": 25,
   "metadata": {},
   "outputs": [
    {
     "name": "stdout",
     "output_type": "stream",
     "text": [
      "*Iteracion: 0  Argumentos:  [-26167.5191  86815.7012]  *Error: 4695488468.14298  *Gradiente:  [5.31675191e+08 9.38329880e+07]\n",
      "*Iteracion: 10  Argumentos:  [-1.91265569e+10 -2.98646002e+09]  *Error: 5.543017692135422e+20  *Gradiente:  [2.43233493e+14 3.79800118e+13]\n",
      "*Iteracion: 20  Argumentos:  [-8.72307910e+15 -1.36207622e+15]  *Error: 1.1529527307306939e+32  *Gradiente:  [1.10931784e+20 1.73215838e+19]\n",
      "*Iteracion: 30  Argumentos:  [-3.97834488e+21 -6.21203696e+20]  *Error: 2.3981521855686194e+43  *Gradiente:  [5.05927886e+25 7.89987499e+24]\n",
      "*Iteracion: 40  Argumentos:  [-1.81440840e+27 -2.83313096e+26]  *Error: 4.988178397827905e+54  *Gradiente:  [2.30739122e+31 3.60290522e+30]\n",
      "([[-26167.519100000005, 86815.7012], [170284.52879659992, 116415.5458105], [-551984.969825386, 2566.39923937642], [2107068.2265027817, 416704.0777057857], [-7678738.951506868, -1112370.8323761313], [28338382.80916962, 4510516.402089195], [-104220797.62231687, -16189150.559089119], [383660011.85028064, 59990575.55627573], [-1411969846.149125, -220391355.1688081], [5196792406.857045, 811541160.4251765], [-19126556937.184887, -2986460023.2944117], [70394797185.08841, 10991964073.808716], [-259085844959.7252, -40455208711.16169], [953557718310.1129, 148894553877.5467], [-3509540328533.306, -548001538990.1922], [12916757376037.79, 2016903499969.639], [-47539735721880.195, -7423152113898.404], [174968563073650.97, 27320687749509.6], [-643966517274023.0, -100552966604823.84], [2370099337595794.5, 370082160125181.25], [-8723079102913364.0, -1362076224127111.0], [3.2105029451570108e+16, 5013080447608093.0], [-1.1816159224537075e+17, -1.84504913358403e+16], [4.3489017516823584e+17, 6.790647668625814e+16], [-1.600600168496956e+18, -2.499277386155606e+17], [5.890960627936926e+18, 9.198515013256879e+17], [-2.1681502853077107e+19, -3.3854856974969846e+18], [7.979811709123894e+19, 1.2460177965073494e+19], [-2.9369456233996144e+20, -4.5859309060464e+19], [1.0809339755402809e+21, 1.6878380336125503e+20], [-3.9783448837736015e+21, -6.212036958413466e+20], [1.4642178312821296e+22, 2.286321460009988e+21], [-5.38900955065248e+22, -8.414737152235613e+21], [1.98340870576571e+23, 3.097018620509503e+22], [-7.299875899516458e+23, -1.1398483591652424e+23], [2.6866973001295344e+24, 4.195177495180693e+23], [-9.888308351928893e+24, -1.544022419697945e+24], [3.639362054598139e+25, 5.682727930507313e+24], [-1.3394562237599671e+26, -2.091510869284226e+25], [4.929828218389268e+26, 7.697742650761681e+25], [-1.8144084018368234e+27, -2.8331309575089184e+26], [6.677875379868073e+27, 1.0427253009817302e+27], [-2.4577718855304767e+28, -3.8377190098669163e+27], [9.045755270478451e+28, 1.412460902677572e+28], [-3.329262935063974e+29, -5.198519736498117e+28], [1.2253251784253199e+30, 1.913299504399067e+29], [-4.509772349519103e+30, -7.04184109917358e+29], [1.6598081066630684e+31, 2.5917283703882886e+30], [-6.108873657975699e+31, -9.538778071354109e+30], [2.248352518541163e+32, 3.5107184894114877e+31]], [4695488468.14298, 38119207695.7611, 490994555561.1253, 6625700819956.921, 89725681432849.19, 1215386350283397.2, 1.6463426223721408e+16, 2.230112116806923e+17, 3.020878216824529e+18, 4.092038781871431e+19, 5.543017692135422e+20, 7.508493143491072e+21, 1.0170898311584228e+23, 1.377735458868796e+24, 1.8662609107619607e+25, 2.528010558643651e+26, 3.4244072453966446e+27, 4.638653482767353e+28, 6.2834542130217295e+29, 8.511477952344492e+30, 1.1529527307306939e+32, 1.5617734155478937e+33, 2.1155561164821616e+34, 2.8657023083050607e+35, 3.881839699662813e+36, 5.258284997087055e+37, 7.122798273456004e+38, 9.64844151133929e+39, 1.3069642017611759e+41, 1.7703951697046496e+42, 2.3981521855686194e+43, 3.2485029351424305e+44, 4.400375999126531e+45, 5.960686913413496e+46, 8.074261946431711e+47, 1.0937280707176128e+49, 1.4815485311377042e+50, 2.0068846259711444e+51, 2.7184974486570196e+52, 3.6824380847396873e+53, 4.988178397827905e+54, 6.756915705295666e+55, 9.152822174193593e+56, 1.239828309338709e+58, 1.6794538420857023e+59, 2.274964353089206e+60, 3.081634444564041e+61, 4.174338308654238e+62, 5.654499464021963e+63, 7.659504770453779e+64])\n"
     ]
    }
   ],
   "source": [
    "resultadoOverall=regresionLineal(dfEntrenamiento[\"Overall\"], dfEntrenamiento[\"SalePrice\"], 50, 10, 0.0001)\n",
    "print(resultadoOverall)"
   ]
  },
  {
   "cell_type": "markdown",
   "metadata": {},
   "source": [
    "### Función para floor"
   ]
  },
  {
   "cell_type": "code",
   "execution_count": 26,
   "metadata": {},
   "outputs": [
    {
     "name": "stdout",
     "output_type": "stream",
     "text": [
      "*Iteracion: 0  Argumentos:  [-4616330.4379483    92562.2747012]  *Error: 535130702097960.7  *Gradiente:  [4.64333044e+13 3.63672530e+10]\n",
      "*Iteracion: 10  Argumentos:  [-1.01469536e+29 -7.94565566e+25]  *Error: 2.5853596122504236e+59  *Gradiente:  [1.02061278e+36 7.99199252e+32]\n",
      "*Iteracion: 20  Argumentos:  [-2.23031950e+51 -1.74647008e+48]  *Error: 1.2490613785589031e+104  *Gradiente:  [2.24332611e+58 1.75665501e+55]\n",
      "*Iteracion: 30  Argumentos:  [-4.90228428e+73 -3.83877414e+70]  *Error: 6.034573759158513e+148  *Gradiente:  [4.93087304e+80 3.86116080e+77]\n",
      "*Iteracion: 40  Argumentos:  [-1.07753132e+96 -8.43769787e+92]  *Error: 2.91547565874941e+193  *Gradiente:  [1.08381518e+103 8.48690418e+099]\n",
      "([[-4616330.4379483, 92562.2747012], [791603027.2512399, 716047.682458599], [-135740843662.12578, -106196811.47528064], [23276286029311.477, 18226783921.23083], [-3991322555430424.0, -3125437949264.404], [6.844157062462926e+17, 535937363586764.5], [-1.1736081272591793e+20, -9.190035233753283e+16], [2.0124553305811247e+22, 1.575869744324828e+19], [-3.4508762878479903e+24, -2.702237138280854e+21], [5.9174218543239704e+26, 4.6336859869296347e+23], [-1.0146953550707346e+29, -7.945655664819933e+25], [1.7399581928568622e+31, 1.3624886132113237e+28], [-2.983609314619041e+33, -2.3363398811123647e+30], [5.116171514250755e+35, 4.0062602998279295e+32], [-8.77300216049668e+37, -6.869771697059622e+34], [1.5043586145166754e+40, 1.1780004202859312e+37], [-2.5796127707124665e+42, -2.0199870554472498e+39], [4.423414724793391e+44, 3.463791382335875e+41], [-7.585091084083475e+46, -5.939568131384783e+43], [1.3006604700971125e+49, 1.0184929082989688e+46], [-2.2303195040375133e+51, -1.7464700821833053e+48], [3.824460883107132e+53, 2.994775636735232e+50], [-6.558029475121591e+55, -5.135319067802721e+52], [1.1245441360514713e+58, 8.805835604061213e+54], [-1.9283224003873567e+60, -1.5099887594507496e+57], [3.306608571978238e+62, 2.5892671135219217e+59], [-5.670037461621373e+64, -4.4399695979225705e+61], [9.722748887980966e+66, 7.613478705046623e+63], [-1.6672173081499057e+69, -1.3055282635115326e+66], [2.858876213527133e+71, 2.238666597566843e+68], [-4.9022842819097977e+73, -3.838774138509673e+70], [8.40623706159349e+75, 6.582573261470524e+72], [-1.4414672318468412e+78, -1.1287528043900175e+75], [2.4717691938303735e+80, 1.9355392531304745e+77], [-4.23848895943409e+82, -3.318983736597131e+79], [7.267987927062704e+84, 5.6912578889732834e+81], [-1.2462849145885727e+87, -9.759136810959389e+83], [2.137078520105315e+89, 1.673456960710742e+86], [-3.664575048317284e+91, -2.8695757151455775e+88], [6.283863769351741e+93, 4.920631350719628e+90], [-1.0775313194882793e+96, -8.437697866583913e+92], [1.8477067407811292e+98, 1.4468620023189233e+95], [-3.168372128198875e+100, -2.4810199261162512e+97], [5.432995248208922e+102, 4.2543517377057164e+99], [-9.316278572315466e+104, -7.295188772003266e+101], [1.5975174369165352e+107, 1.2509492044929712e+104], [-2.7393577182590466e+109, -2.1450766541190973e+106], [4.6973388428670244e+111, 3.678289922180955e+108], [-8.054804984991281e+113, -6.307381475453222e+110], [1.38120509327875e+116, 1.0815640397726464e+113]], [535130702097960.7, 1.5734915762145829e+19, 4.6266932229189117e+23, 1.3604324615069604e+28, 4.000214393195204e+32, 1.176222682440327e+37, 3.458564123564471e+41, 1.0169558855972923e+46, 2.9902561765577583e+50, 8.792546587397074e+54, 2.5853596122504236e+59, 7.601989091802373e+63, 2.235288192716001e+68, 6.572639402868382e+72, 1.9326183022354686e+77, 5.682669127573794e+81, 1.670931522076923e+86, 4.9132055532192175e+90, 1.4446785214859833e+95, 4.247931432617193e+99, 1.2490613785589031e+104, 3.6727389604926825e+108, 1.0799318354942418e+113, 3.175430603316054e+117, 9.3370333062377e+121, 2.7454604383654687e+126, 8.072749417734629e+130, 2.3737105168535438e+135, 6.979656280972839e+139, 2.0522975086742315e+144, 6.034573759158513e+148, 1.7744055284776454e+153, 5.217460429104231e+157, 1.534141597982036e+162, 4.510988582740354e+166, 1.3264106794562016e+171, 3.900176775678467e+175, 1.146807630331957e+180, 3.372072130650578e+184, 9.915237877357776e+188, 2.91547565874941e+193, 8.572662019708815e+197, 2.520704773631401e+202, 7.411878062147099e+206, 2.179387962557589e+211, 6.408270416101536e+215, 1.8842872600658897e+220, 5.540556574400278e+224, 1.6291447596507492e+229, 4.790335794350727e+233])\n"
     ]
    }
   ],
   "source": [
    "resultadoFloor=regresionLineal(dfEntrenamiento[\"Floor\"], dfEntrenamiento[\"SalePrice\"], 50, 10, 0.0000001)\n",
    "print(resultadoFloor)"
   ]
  },
  {
   "cell_type": "markdown",
   "metadata": {},
   "source": [
    "##  Visualización de errores"
   ]
  },
  {
   "cell_type": "code",
   "execution_count": 27,
   "metadata": {},
   "outputs": [],
   "source": [
    "#ax = sns.regplot(x=\"Front\", y=\"SalePrice\", data=dfEntrenamiento)\n",
    "#type(resultadoFloor[0])\n",
    "\n",
    "def graficar_error(arrErroresTemp):\n",
    "    \n",
    "    rango = np.arange(np.size(arrErroresTemp))\n",
    "    \n",
    "    plt.plot(rango, arrErroresTemp)\n",
    "    plt.title('Comportamiento del error para ')\n",
    "    plt.ylabel('Y - Error')\n",
    "    plt.xlabel('X - Numero de Iteracion')    \n",
    "    plt.show()\n",
    "\n",
    "##ax = sns.regplot(x=\"Front\", y=\"SalePrice\", data=dfValidacion)\n",
    "    "
   ]
  },
  {
   "cell_type": "code",
   "execution_count": 28,
   "metadata": {
    "scrolled": true
   },
   "outputs": [
    {
     "data": {
      "image/png": "[encoded data removed]",
      "text/plain": [
       "<Figure size 432x288 with 1 Axes>"
      ]
     },
     "metadata": {
      "needs_background": "light"
     },
     "output_type": "display_data"
    }
   ],
   "source": [
    "#ax = sns.regplot(x=\"Front\", y=\"SalePrice\", data=dfEntrenamiento)\n",
    "#type(resultadoFloor[0])\n",
    "\n",
    "graficar_error(resultadoFloor[1])\n"
   ]
  },
  {
   "cell_type": "code",
   "execution_count": 29,
   "metadata": {},
   "outputs": [
    {
     "data": {
      "image/png": "[encoded data removed]",
      "text/plain": [
       "<Figure size 432x288 with 1 Axes>"
      ]
     },
     "metadata": {
      "needs_background": "light"
     },
     "output_type": "display_data"
    }
   ],
   "source": [
    "import matplotlib.pyplot as plt\n",
    "\n",
    "x = resultadoFloor[1]\n",
    "y = np.arange(np.size(x) )\n",
    "\n",
    "fig = plt.figure()\n",
    "ax = fig.add_subplot(1,1,1) #creamos un canvas con  1 fila, 1 columna y devolvemos una referencia a la primera grafica\n",
    "#ax = fig.add_subplot(111) \n",
    "\n",
    "ax.grid()\n",
    "ax.plot(x,y)\n",
    "\n",
    "ax.set_xlabel('x')\n",
    "ax.set_ylabel('y')\n",
    "ax.set_title('Grafica de error')\n",
    "\n",
    "plt.show()\n"
   ]
  },
  {
   "cell_type": "markdown",
   "metadata": {},
   "source": [
    "## Modelo con Sk"
   ]
  },
  {
   "cell_type": "code",
   "execution_count": null,
   "metadata": {},
   "outputs": [],
   "source": [
    "def entrenamientoSKT(x, y):\n",
    "    modeloSkt = LinearRegression()    \n",
    "    modeloSkt.fit(x,y)\n",
    "    return np.append(modeloSkt.coef_.flatten(), modeloSkt.intercept_.flatten())\n",
    "\n"
   ]
  },
  {
   "cell_type": "markdown",
   "metadata": {},
   "source": [
    "### Entrenando modelo"
   ]
  },
  {
   "cell_type": "markdown",
   "metadata": {},
   "source": [
    "## Entrenamiento para Overall "
   ]
  },
  {
   "cell_type": "code",
   "execution_count": null,
   "metadata": {},
   "outputs": [],
   "source": [
    "serY = dfEntrenamiento[\"SalePrice\"]\n",
    "serX = dfEntrenamiento[\"Overall\"]\n",
    "\n",
    "xx=np.array(dfEntrenamiento[\"Overall\"].values.tolist())\n",
    "yy=np.array(dfEntrenamiento[\"SalePrice\"].values.tolist())\n",
    "\n",
    "print(entrenamientoSKT(xx.reshape(-1, 1), yy.reshape(-1, 1)))\n"
   ]
  },
  {
   "cell_type": "markdown",
   "metadata": {},
   "source": [
    "### Entrenamiento para Floor"
   ]
  },
  {
   "cell_type": "code",
   "execution_count": null,
   "metadata": {},
   "outputs": [],
   "source": [
    "xx=np.array(dfEntrenamiento[\"Floor\"].values.tolist())\n",
    "yy=np.array(dfEntrenamiento[\"SalePrice\"].values.tolist())\n",
    "\n",
    "print(entrenamientoSKT(xx.reshape(-1, 1), yy.reshape(-1, 1)))\n"
   ]
  },
  {
   "cell_type": "code",
   "execution_count": null,
   "metadata": {},
   "outputs": [],
   "source": []
  },
  {
   "cell_type": "markdown",
   "metadata": {},
   "source": [
    "# Conclusiones finales: "
   ]
  },
  {
   "cell_type": "markdown",
   "metadata": {},
   "source": [
    "En base a los modelos entrenados manualmente y con la herramienta Sklearn, se pueden concluir los siguientes modelos para las variables: Overall y Floor, que según las graficas, y el analisis exploratorio, tienden a tener mayor relación con el precio de las casas:\n",
    "\n",
    "Para Overall:\n",
    "Y = 45411.99*X-96469.57\n",
    "\n",
    "Para Floor:\n",
    "Y = 129.95*X+30324.58\n",
    "\n",
    "\n",
    "\n"
   ]
  },
  {
   "cell_type": "code",
   "execution_count": null,
   "metadata": {},
   "outputs": [],
   "source": [
    "\n",
    "######## Codigo comentado que ha optimizado\n",
    "\n",
    "# lmplot(x, y, data=dsDatosEntrenamiento, fit_reg=False)\n",
    "#dsDatosEntrenamiento.columns = [\"Sequence\", \"Start\", \"End\", \"Coverage\"]\n",
    "##arrPrecio=dsDatosEntrenamiento[:,0]\n",
    "##arrOver=dsDatosEntrenamiento[:,1]\n",
    "##arrFloor=dsDatosEntrenamiento[:,2]\n",
    "##arrRooms=dsDatosEntrenamiento[:,3]\n",
    "##arrYear=dsDatosEntrenamiento[:,4]\n",
    "##arrFront=dsDatosEntrenamiento[:,5]\n",
    "\n",
    "\n",
    "##mediaPrecio=np.mean(dsPrecio)\n",
    "##minPrecio=np.min(dsPrecio)\n",
    "##maxPrecio=np.max(dsPrecio)\n",
    "##stdPrecio=np.std(dsPrecio)\n",
    "\n",
    "##dsOverallQual=dsDatosEntrenamiento[:,1]\n",
    "##mediaOverallQual=np.mean(dsOverallQual)\n",
    "##minOverallQual=np.min(dsOverallQual)\n",
    "##maxOverallQual=np.max(dsOverallQual)\n",
    "##stdOverallQual=np.std(dsOverallQual)\n",
    "##print(mediaOverallQual)\n",
    "##print(minOverallQual)\n",
    "##print(maxOverallQual)\n",
    "##print(stdOverallQual)\n",
    "\n",
    "\n"
   ]
  }
 ],
 "metadata": {
  "kernelspec": {
   "display_name": "Python 3",
   "language": "python",
   "name": "python3"
  },
  "language_info": {
   "codemirror_mode": {
    "name": "ipython",
    "version": 3
   },
   "file_extension": ".py",
   "mimetype": "text/x-python",
   "name": "python",
   "nbconvert_exporter": "python",
   "pygments_lexer": "ipython3",
   "version": "3.7.1"
  }
 },
 "nbformat": 4,
 "nbformat_minor": 2
}
